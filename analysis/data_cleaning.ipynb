{
 "cells": [
  {
   "cell_type": "markdown",
   "metadata": {},
   "source": [
    "Brisanje akcija gdje su actionStartTime i actionEndTime manji od nule."
   ]
  },
  {
   "cell_type": "code",
   "execution_count": 15,
   "metadata": {
    "collapsed": false
   },
   "outputs": [],
   "source": [
    "import os\n",
    "import pandas as pd\n",
    "\n",
    "fileDir = os.path.dirname(os.path.realpath('mozgalo_gladbach_eintracht_akcije.csv'))\n",
    "filename = os.path.join(fileDir, '../data/clean/mozgalo_gladbach_eintracht_akcije.csv')\n",
    "file = os.path.abspath(os.path.realpath(filename))\n",
    "\n",
    "dataframe = pd.read_csv(file, sep=\",\")\n",
    "cleanDataframe = dataframe[(dataframe.actionStartTime >= 0) & (dataframe.actionEndTime >= 0)]\n",
    "cleanDataframe.to_csv(\"mozgalo_gladbach_eintracht_akcije.csv\", sep=\",\", index=False)"
   ]
  },
  {
   "cell_type": "code",
   "execution_count": null,
   "metadata": {
    "collapsed": true
   },
   "outputs": [],
   "source": []
  }
 ],
 "metadata": {
  "kernelspec": {
   "display_name": "Python 3",
   "language": "python",
   "name": "python3"
  },
  "language_info": {
   "codemirror_mode": {
    "name": "ipython",
    "version": 3
   },
   "file_extension": ".py",
   "mimetype": "text/x-python",
   "name": "python",
   "nbconvert_exporter": "python",
   "pygments_lexer": "ipython3",
   "version": "3.5.1"
  }
 },
 "nbformat": 4,
 "nbformat_minor": 0
}
