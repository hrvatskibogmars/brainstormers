{
 "cells": [
  {
   "cell_type": "code",
   "execution_count": 120,
   "metadata": {
    "collapsed": true
   },
   "outputs": [],
   "source": [
    "import numpy as np\n",
    "import seaborn as sns\n",
    "import pandas as pd\n",
    "from pandas import Series,DataFrame\n",
    "import os\n",
    "import matplotlib.pyplot as plt\n",
    "import warnings\n",
    "warnings.filterwarnings('ignore')\n",
    "\n",
    "#Dohvacanje CSV datoteke za utakmice \n",
    "fileDirU = os.path.dirname(os.path.realpath('mozgalo_gladbach_eintracht_utakmice.csv'))\n",
    "filenameU = os.path.join(fileDirU, '../../data/clean/mozgalo_gladbach_eintracht_utakmice.csv')\n",
    "fileU = os.path.abspath(os.path.realpath(filenameU))\n",
    "\n",
    "#Dohvacanje CSV datoteke za akcije\n",
    "fileDirA = os.path.dirname(os.path.realpath('mozgalo_gladbach_eintracht_akcije.csv'))\n",
    "filenameA = os.path.join(fileDirA, '../../data/new_attributes/mozgalo_gladbach_eintracht_akcije.csv')\n",
    "fileA = os.path.abspath(os.path.realpath(filenameA))\n",
    "\n",
    "#Dohvacanje XLSX datoteke za akcije\n",
    "fileDirC = os.path.dirname(os.path.realpath('Once - Lista akcija.xlsx'))\n",
    "filenameC = os.path.join(fileDirA, '../../data/clean/Once - Lista akcija.xlsx')\n",
    "fileC = os.path.abspath(os.path.realpath(filenameC))\n",
    "\n",
    "#Dohvacanje XLSX datoteke za pozicije igrača\n",
    "fileDirD = os.path.dirname(os.path.realpath('once_player_position.xlsx'))\n",
    "filenameD = os.path.join(fileDirD, '../../data/clean/once_player_position.xlsx')\n",
    "fileD = os.path.abspath(os.path.realpath(filenameD))"
   ]
  },
  {
   "cell_type": "code",
   "execution_count": 121,
   "metadata": {
    "collapsed": false
   },
   "outputs": [
    {
     "data": {
      "text/plain": [
       "Index(['ID', 'gameID', 'actionStartTime', 'actionEndTime', 'actionID',\n",
       "       'bindedActionID', 'actionOptionID', 'playerID', 'actionIDNaziv',\n",
       "       'bindedActionIDN', 'actionOptionIDN', 'targetPlayerID',\n",
       "       'playerPositionIDN', 'targetPositionIDN', 'touchNumber', 'playerTeam',\n",
       "       'actionPosX1', 'actionPosX2', 'actionPosY1', 'actionPosY2', 'goalZone',\n",
       "       'distance', 'refPositionX', 'refPositionY', 'startPossTime',\n",
       "       'endPossTime', 'gameTimeSection', 'playerPositionID',\n",
       "       'targetPositionID', 'awayTeamSide', 'action_duration', 'poss_duration',\n",
       "       'start_sector', 'end_sector', 'ref_sector', 'domaci', 'gosti',\n",
       "       'domaciFormacija', 'gostiFormacija', 'gameDate', 'gameTime', 'stadium',\n",
       "       'referee', 'climate', 'luna', 'temperature', 'viewers', 'domaciID',\n",
       "       'gostiID', 'homeTeamFormacijaID', 'awayTeamFormacijaID',\n",
       "       'Pogodaka_domaci', 'Score_domaci', 'Pogodaka_gosti', 'Score_gosti'],\n",
       "      dtype='object')"
      ]
     },
     "execution_count": 121,
     "metadata": {},
     "output_type": "execute_result"
    }
   ],
   "source": [
    "dframe_efAkcije = pd.read_csv(\"mirroringEFSektori.csv\")\n",
    "dframe_bmAkcije = pd.read_csv(\"mirroringBMSektori.csv\")\n",
    "\n",
    "dframe_efSectors = pd.DataFrame(columns=[\"sektor\"])\n",
    "dframe_bmSectors = pd.DataFrame(columns=[\"sektor\"])\n",
    "\n",
    "dframe_efAkcije.columns"
   ]
  },
  {
   "cell_type": "code",
   "execution_count": 122,
   "metadata": {
    "collapsed": false
   },
   "outputs": [],
   "source": [
    "for item in range(1,17):\n",
    "    dframe_efSectors.loc[len(dframe_efSectors)] = item\n",
    "    dframe_bmSectors.loc[len(dframe_bmSectors)] = item"
   ]
  },
  {
   "cell_type": "code",
   "execution_count": 123,
   "metadata": {
    "collapsed": false
   },
   "outputs": [
    {
     "data": {
      "text/html": [
       "<div>\n",
       "<table border=\"1\" class=\"dataframe\">\n",
       "  <thead>\n",
       "    <tr style=\"text-align: right;\">\n",
       "      <th></th>\n",
       "      <th>sektor</th>\n",
       "      <th>startUkupno</th>\n",
       "      <th>endUkupno</th>\n",
       "    </tr>\n",
       "  </thead>\n",
       "  <tbody>\n",
       "    <tr>\n",
       "      <th>0</th>\n",
       "      <td>1</td>\n",
       "      <td>0</td>\n",
       "      <td>0</td>\n",
       "    </tr>\n",
       "    <tr>\n",
       "      <th>1</th>\n",
       "      <td>2</td>\n",
       "      <td>0</td>\n",
       "      <td>0</td>\n",
       "    </tr>\n",
       "    <tr>\n",
       "      <th>2</th>\n",
       "      <td>3</td>\n",
       "      <td>0</td>\n",
       "      <td>0</td>\n",
       "    </tr>\n",
       "    <tr>\n",
       "      <th>3</th>\n",
       "      <td>4</td>\n",
       "      <td>0</td>\n",
       "      <td>0</td>\n",
       "    </tr>\n",
       "    <tr>\n",
       "      <th>4</th>\n",
       "      <td>5</td>\n",
       "      <td>0</td>\n",
       "      <td>0</td>\n",
       "    </tr>\n",
       "    <tr>\n",
       "      <th>5</th>\n",
       "      <td>6</td>\n",
       "      <td>0</td>\n",
       "      <td>0</td>\n",
       "    </tr>\n",
       "    <tr>\n",
       "      <th>6</th>\n",
       "      <td>7</td>\n",
       "      <td>0</td>\n",
       "      <td>0</td>\n",
       "    </tr>\n",
       "    <tr>\n",
       "      <th>7</th>\n",
       "      <td>8</td>\n",
       "      <td>0</td>\n",
       "      <td>0</td>\n",
       "    </tr>\n",
       "    <tr>\n",
       "      <th>8</th>\n",
       "      <td>9</td>\n",
       "      <td>0</td>\n",
       "      <td>0</td>\n",
       "    </tr>\n",
       "    <tr>\n",
       "      <th>9</th>\n",
       "      <td>10</td>\n",
       "      <td>0</td>\n",
       "      <td>0</td>\n",
       "    </tr>\n",
       "    <tr>\n",
       "      <th>10</th>\n",
       "      <td>11</td>\n",
       "      <td>0</td>\n",
       "      <td>0</td>\n",
       "    </tr>\n",
       "    <tr>\n",
       "      <th>11</th>\n",
       "      <td>12</td>\n",
       "      <td>0</td>\n",
       "      <td>0</td>\n",
       "    </tr>\n",
       "    <tr>\n",
       "      <th>12</th>\n",
       "      <td>13</td>\n",
       "      <td>0</td>\n",
       "      <td>0</td>\n",
       "    </tr>\n",
       "    <tr>\n",
       "      <th>13</th>\n",
       "      <td>14</td>\n",
       "      <td>0</td>\n",
       "      <td>0</td>\n",
       "    </tr>\n",
       "    <tr>\n",
       "      <th>14</th>\n",
       "      <td>15</td>\n",
       "      <td>0</td>\n",
       "      <td>0</td>\n",
       "    </tr>\n",
       "    <tr>\n",
       "      <th>15</th>\n",
       "      <td>16</td>\n",
       "      <td>0</td>\n",
       "      <td>0</td>\n",
       "    </tr>\n",
       "  </tbody>\n",
       "</table>\n",
       "</div>"
      ],
      "text/plain": [
       "    sektor  startUkupno  endUkupno\n",
       "0        1            0          0\n",
       "1        2            0          0\n",
       "2        3            0          0\n",
       "3        4            0          0\n",
       "4        5            0          0\n",
       "5        6            0          0\n",
       "6        7            0          0\n",
       "7        8            0          0\n",
       "8        9            0          0\n",
       "9       10            0          0\n",
       "10      11            0          0\n",
       "11      12            0          0\n",
       "12      13            0          0\n",
       "13      14            0          0\n",
       "14      15            0          0\n",
       "15      16            0          0"
      ]
     },
     "execution_count": 123,
     "metadata": {},
     "output_type": "execute_result"
    }
   ],
   "source": [
    "dframe_efSectors[\"startUkupno\"] = 0\n",
    "dframe_bmSectors[\"startUkupno\"] = 0\n",
    "dframe_efSectors[\"endUkupno\"] = 0\n",
    "dframe_bmSectors[\"endUkupno\"] = 0\n",
    "\n",
    "dframe_efSectors"
   ]
  },
  {
   "cell_type": "code",
   "execution_count": 124,
   "metadata": {
    "collapsed": false
   },
   "outputs": [],
   "source": [
    "for indexA,itemA in dframe_efSectors.iterrows():\n",
    "    for indexB,itemB in dframe_efAkcije.iterrows():\n",
    "        if (itemA[\"sektor\"] == itemB[\"start_sector\"]):\n",
    "            dframe_efSectors.loc[indexA,\"startUkupno\"] += itemB[\"poss_duration\"]\n",
    "        if (itemA[\"sektor\"] == itemB[\"end_sector\"]):\n",
    "            dframe_efSectors.loc[indexA,\"endUkupno\"] +=itemB[\"poss_duration\"]\n",
    "            \n",
    "\n",
    "for indexA,itemA in dframe_bmSectors.iterrows():\n",
    "    for indexB,itemB in dframe_bmAkcije.iterrows():\n",
    "        if (itemA[\"sektor\"] == itemB[\"start_sector\"]):\n",
    "            dframe_bmSectors.loc[indexA,\"startUkupno\"] +=itemB[\"poss_duration\"]\n",
    "        if (itemA[\"sektor\"] == itemB[\"end_sector\"]):\n",
    "            dframe_bmSectors.loc[indexA,\"endUkupno\"] +=itemB[\"poss_duration\"]\n"
   ]
  },
  {
   "cell_type": "code",
   "execution_count": 127,
   "metadata": {
    "collapsed": false
   },
   "outputs": [],
   "source": [
    "dframe_efSectors.to_csv(\"efSectors.csv\",index=False)"
   ]
  },
  {
   "cell_type": "code",
   "execution_count": 128,
   "metadata": {
    "collapsed": false
   },
   "outputs": [],
   "source": [
    "dframe_bmSectors.to_csv(\"bmSectors.csv\",index=False)"
   ]
  },
  {
   "cell_type": "code",
   "execution_count": 142,
   "metadata": {
    "collapsed": false
   },
   "outputs": [],
   "source": [
    "sns.set()\n",
    "\n",
    "ax = sns.heatmap(dframe_efSectors,cmap=\"YlGnBu\")"
   ]
  },
  {
   "cell_type": "code",
   "execution_count": 143,
   "metadata": {
    "collapsed": true
   },
   "outputs": [],
   "source": [
    "plt.show()\n"
   ]
  },
  {
   "cell_type": "code",
   "execution_count": null,
   "metadata": {
    "collapsed": true
   },
   "outputs": [],
   "source": []
  },
  {
   "cell_type": "code",
   "execution_count": null,
   "metadata": {
    "collapsed": true
   },
   "outputs": [],
   "source": []
  }
 ],
 "metadata": {
  "kernelspec": {
   "display_name": "Python 3",
   "language": "python",
   "name": "python3"
  },
  "language_info": {
   "codemirror_mode": {
    "name": "ipython",
    "version": 3
   },
   "file_extension": ".py",
   "mimetype": "text/x-python",
   "name": "python",
   "nbconvert_exporter": "python",
   "pygments_lexer": "ipython3",
   "version": "3.5.1"
  }
 },
 "nbformat": 4,
 "nbformat_minor": 0
}
