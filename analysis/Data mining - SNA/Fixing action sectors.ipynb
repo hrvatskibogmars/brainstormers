{
 "cells": [
  {
   "cell_type": "markdown",
   "metadata": {},
   "source": [
    "### Provjera maximuma i minimuma za koordinate akcija tako da znamo u kojim rasponima se kreću. To nam je potrebno za kodiranje sektora na igralištu u kojima su se događale akcije. Pomoću sektora smo mogli grupirati akcije i imali smo zorniji uvid u akcije."
   ]
  },
  {
   "cell_type": "code",
   "execution_count": 2,
   "metadata": {
    "collapsed": false
   },
   "outputs": [
    {
     "name": "stdout",
     "output_type": "stream",
     "text": [
      "actionPosX1 max: 1297 \n",
      "actionPosX2 max: 1341 \n",
      "actionPosY1 max: 836.32 \n",
      "actionPosY2 max: 858.32 \n",
      "\n",
      "\n",
      "actionPosX1 min: 0 \n",
      "actionPosX2 min: 0 \n",
      "actionPosY1 min: 0.0 \n",
      "actionPosY2 min: 0.0 \n"
     ]
    }
   ],
   "source": [
    "import pandas as pd\n",
    "import os\n",
    "\n",
    "fileDir = os.path.dirname(os.path.realpath('mozgalo_gladbach_eintracht_akcije.csv'))\n",
    "filename = os.path.join(fileDir, '../../data/clean/mozgalo_gladbach_eintracht_akcije.csv')\n",
    "file = os.path.abspath(os.path.realpath(filename))\n",
    "\n",
    "dataframe = pd.read_csv(file, sep=\",\")\n",
    "\n",
    "#ispis min i max vrijednosti da znam u kojim rasponima se krećem\n",
    "maxx1 = dataframe['actionPosX1'].max()\n",
    "maxx2 = dataframe['actionPosX2'].max()\n",
    "maxy1 = dataframe['actionPosY1'].max()\n",
    "maxy2 = dataframe['actionPosY2'].max()\n",
    "\n",
    "minx1 = dataframe['actionPosX1'].min()\n",
    "minx2 = dataframe['actionPosX2'].min()\n",
    "miny1 = dataframe['actionPosY1'].min()\n",
    "miny2 = dataframe['actionPosY2'].min()\n",
    "\n",
    "print('actionPosX1 max: %s ' % maxx1)\n",
    "print('actionPosX2 max: %s ' % maxx2)\n",
    "print('actionPosY1 max: %s ' % maxy1)\n",
    "print('actionPosY2 max: %s ' % maxy2)\n",
    "print('\\n')\n",
    "print('actionPosX1 min: %s ' % minx1)\n",
    "print('actionPosX2 min: %s ' % minx2)\n",
    "print('actionPosY1 min: %s ' % miny1)\n",
    "print('actionPosY2 min: %s ' % miny2)"
   ]
  }
 ],
 "metadata": {
  "kernelspec": {
   "display_name": "Python 3",
   "language": "python",
   "name": "python3"
  },
  "language_info": {
   "codemirror_mode": {
    "name": "ipython",
    "version": 3
   },
   "file_extension": ".py",
   "mimetype": "text/x-python",
   "name": "python",
   "nbconvert_exporter": "python",
   "pygments_lexer": "ipython3",
   "version": "3.5.1"
  }
 },
 "nbformat": 4,
 "nbformat_minor": 0
}
