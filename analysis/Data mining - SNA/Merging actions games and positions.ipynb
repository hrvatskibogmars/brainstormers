{
 "cells": [
  {
   "cell_type": "markdown",
   "metadata": {},
   "source": [
    "### Spajanje tablica radi lašeg čitanja akcija."
   ]
  },
  {
   "cell_type": "code",
   "execution_count": 1,
   "metadata": {
    "collapsed": false
   },
   "outputs": [],
   "source": [
    "import numpy as np\n",
    "import seaborn as sns\n",
    "import pandas as pd\n",
    "from pandas import Series,DataFrame\n",
    "import os\n",
    "\n",
    "dfAkcije = pd.read_csv(\"mozgalo_gladbach_eintracht_akcije.csv\", sep=',')\n",
    "dfUtakmice = pd.read_csv(\"mozgalo_gladbach_eintracht_utakmice.csv\", sep=',')\n",
    "dfPozicije = pd.read_csv(\"pozicije.csv\", sep=',')\n",
    "dfAkcijeNazivi = pd.read_csv(\"akcije.csv\", sep=',')\n",
    "\n",
    "dfSpojeno1 = pd.merge(dfAkcije, dfUtakmice, left_on='gameID', right_on='ID')\n",
    "dfSpojeno2 = dfSpojeno1.drop('ID_y', axis=1)\n",
    "dfSpojeno3 = dfSpojeno2.rename(columns={'ID_x':'ID'})\n",
    "\n",
    "dfSpojeno4 = pd.merge(dfSpojeno3, dfPozicije, left_on='playerPositionID', right_on='idPozicije', how='left')\n",
    "\n",
    "dfSpojeno5 = pd.merge(dfSpojeno4, dfPozicije, left_on='targetPositionID', right_on='idPozicije', how='left')\n",
    "\n",
    "dfSpojeno6 = pd.merge(dfSpojeno5, dfAkcijeNazivi, left_on='actionID', right_on='idAkcije', how='left')\n",
    "\n",
    "dfSpojeno7 = pd.merge(dfSpojeno6, dfAkcijeNazivi, left_on='bindedActionID', right_on='idAkcije', how='left')\n",
    "\n",
    "dfSpojeno8 = pd.merge(dfSpojeno7, dfAkcijeNazivi, left_on='actionOptionID', right_on='idAkcije', how='left')\n",
    "\n",
    "dfSpojenoClean = dfSpojeno8.drop(['idPozicije_x', 'idPozicije_y', 'idAkcije_x', 'idAkcije_y', 'idAkcije'], axis=1)\n",
    "\n",
    "dfSpojenoClean.to_csv(\"mozgalo_gladbach_eintracht_akcije_spojeno.csv\", sep=',', index=False)"
   ]
  }
 ],
 "metadata": {
  "kernelspec": {
   "display_name": "Python 3",
   "language": "python",
   "name": "python3"
  },
  "language_info": {
   "codemirror_mode": {
    "name": "ipython",
    "version": 3
   },
   "file_extension": ".py",
   "mimetype": "text/x-python",
   "name": "python",
   "nbconvert_exporter": "python",
   "pygments_lexer": "ipython3",
   "version": "3.5.1"
  }
 },
 "nbformat": 4,
 "nbformat_minor": 0
}
