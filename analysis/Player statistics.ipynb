{
 "cells": [
  {
   "cell_type": "code",
   "execution_count": 2,
   "metadata": {
    "collapsed": false
   },
   "outputs": [],
   "source": [
    "import numpy as np\n",
    "import seaborn as sns\n",
    "import pandas as pd\n",
    "import matplotlib.pyplot as plt\n",
    "%matplotlib inline\n",
    "from pandas import Series,DataFrame\n",
    "from scipy import stats, integrate\n",
    "\n",
    "import os\n",
    "\n",
    "#Dohvacanje CSV datoteke za utakmice\n",
    "#fileDirU = os.path.dirname(os.path.realpath('mozgalo_gladbach_eintracht_utakmice.csv'))\n",
    "#filenameU = os.path.join(fileDirU, '../data/clean/mozgalo_gladbach_eintracht_utakmice.csv')\n",
    "#fileU = os.path.abspath(os.path.realpath(filenameU))\n",
    "\n",
    "#Dohvacanje CSV datoteke za akcije\n",
    "#fileDirA = os.path.dirname(os.path.realpath('mozgalo_gladbach_eintracht_akcije.csv'))\n",
    "#filenameA = os.path.join(fileDirA, '../data/clean/mozgalo_gladbach_eintracht_akcije.csv')\n",
    "#fileA = os.path.abspath(os.path.realpath(filenameA))\n",
    "\n",
    "#Dohvacanje XLSX datoteke za akcije\n",
    "#fileDirC = os.path.dirname(os.path.realpath('Once - Lista akcija.xlsx'))\n",
    "#filenameC = os.path.join(fileDirA, '../data/clean/Once - Lista akcija.xlsx')\n",
    "#fileC = os.path.abspath(os.path.realpath(filenameC))"
   ]
  },
  {
   "cell_type": "code",
   "execution_count": 3,
   "metadata": {
    "collapsed": false
   },
   "outputs": [],
   "source": [
    "team_df = pd.read_csv(\"team_stats.csv\",sep=\",\")\n",
    "match_df = pd.read_csv(\"match_stats.csv\",sep=\",\")"
   ]
  },
  {
   "cell_type": "code",
   "execution_count": 4,
   "metadata": {
    "collapsed": true
   },
   "outputs": [],
   "source": [
    "#for every actionID and gameID find playerID\n",
    "#točno dodavanje\n",
    "#netočno dodavanje\n",
    "#dodavanje\n",
    "\n",
    "#oduzete lopte\n",
    "#dobiveni duel oduzeta lopta\n",
    "\n",
    "#slobodni udarac\n",
    "#udarac na gol\n",
    "##udarac u stativu\n",
    "##udarac u prečku \n",
    "#Udarac izvan okvira\n",
    "#izravan udarac na gol\n",
    "#udarac\n",
    "##udarac u okvir\n",
    "\n",
    "#dribling više igrača\n",
    "#u driblingu\n",
    "\n",
    "#kartoni\n",
    "##crveni\n",
    "##zuti\n",
    "\n",
    "#obrana rukom\n",
    "#obrana visoko\n",
    "#obrana nisko\n",
    "##obrana jedanaesteraca "
   ]
  },
  {
   "cell_type": "code",
   "execution_count": null,
   "metadata": {
    "collapsed": false
   },
   "outputs": [],
   "source": []
  },
  {
   "cell_type": "code",
   "execution_count": null,
   "metadata": {
    "collapsed": false
   },
   "outputs": [],
   "source": []
  },
  {
   "cell_type": "code",
   "execution_count": null,
   "metadata": {
    "collapsed": true
   },
   "outputs": [],
   "source": []
  },
  {
   "cell_type": "code",
   "execution_count": null,
   "metadata": {
    "collapsed": false
   },
   "outputs": [],
   "source": []
  },
  {
   "cell_type": "code",
   "execution_count": null,
   "metadata": {
    "collapsed": false
   },
   "outputs": [],
   "source": []
  },
  {
   "cell_type": "code",
   "execution_count": null,
   "metadata": {
    "collapsed": false
   },
   "outputs": [],
   "source": []
  },
  {
   "cell_type": "code",
   "execution_count": null,
   "metadata": {
    "collapsed": false
   },
   "outputs": [],
   "source": []
  },
  {
   "cell_type": "code",
   "execution_count": null,
   "metadata": {
    "collapsed": false
   },
   "outputs": [],
   "source": []
  },
  {
   "cell_type": "code",
   "execution_count": null,
   "metadata": {
    "collapsed": true
   },
   "outputs": [],
   "source": []
  }
 ],
 "metadata": {
  "kernelspec": {
   "display_name": "Python 3",
   "language": "python",
   "name": "python3"
  },
  "language_info": {
   "codemirror_mode": {
    "name": "ipython",
    "version": 3
   },
   "file_extension": ".py",
   "mimetype": "text/x-python",
   "name": "python",
   "nbconvert_exporter": "python",
   "pygments_lexer": "ipython3",
   "version": "3.5.1"
  }
 },
 "nbformat": 4,
 "nbformat_minor": 0
}
