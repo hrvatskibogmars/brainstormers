{
 "cells": [
  {
   "cell_type": "code",
   "execution_count": 52,
   "metadata": {
    "collapsed": true
   },
   "outputs": [],
   "source": [
    "import numpy as np\n",
    "import seaborn as sns\n",
    "import pandas as pd\n",
    "from pandas import Series,DataFrame\n",
    "import os\n",
    "import matplotlib.pyplot as plt\n",
    "import warnings\n",
    "warnings.filterwarnings('ignore')\n",
    "\n",
    "#Dohvacanje CSV datoteke za utakmice \n",
    "fileDirU = os.path.dirname(os.path.realpath('mozgalo_gladbach_eintracht_utakmice.csv'))\n",
    "filenameU = os.path.join(fileDirU, '../../data/clean/mozgalo_gladbach_eintracht_utakmice.csv')\n",
    "fileU = os.path.abspath(os.path.realpath(filenameU))\n",
    "\n",
    "#Dohvacanje CSV datoteke za akcije\n",
    "fileDirA = os.path.dirname(os.path.realpath('mozgalo_gladbach_eintracht_akcije.csv'))\n",
    "filenameA = os.path.join(fileDirA, '../../data/new_attributes/mozgalo_gladbach_eintracht_akcije.csv')\n",
    "fileA = os.path.abspath(os.path.realpath(filenameA))\n",
    "\n",
    "#Dohvacanje XLSX datoteke za akcije\n",
    "fileDirC = os.path.dirname(os.path.realpath('Once - Lista akcija.xlsx'))\n",
    "filenameC = os.path.join(fileDirA, '../../data/clean/Once - Lista akcija.xlsx')\n",
    "fileC = os.path.abspath(os.path.realpath(filenameC))\n",
    "\n",
    "#Dohvacanje XLSX datoteke za pozicije igrača\n",
    "fileDirD = os.path.dirname(os.path.realpath('once_player_position.xlsx'))\n",
    "filenameD = os.path.join(fileDirD, '../../data/clean/once_player_position.xlsx')\n",
    "fileD = os.path.abspath(os.path.realpath(filenameD))"
   ]
  },
  {
   "cell_type": "code",
   "execution_count": 53,
   "metadata": {
    "collapsed": false
   },
   "outputs": [],
   "source": [
    "#dframe_akcije = pd.read_csv(fileA)\n",
    "dframe_utakmice = pd.read_csv(fileU)\n",
    "dframe_efAkcije = pd.read_csv(\"Eintracht_ukupneAkcije.csv\")\n",
    "dframe_eintrachtFrankfurt = pd.read_excel(\"efPlayers.xls\")\n",
    "dframe_borussiaMgladbach = pd.read_excel(\"bmPlayers.xls\")"
   ]
  },
  {
   "cell_type": "code",
   "execution_count": null,
   "metadata": {
    "collapsed": false
   },
   "outputs": [],
   "source": []
  },
  {
   "cell_type": "markdown",
   "metadata": {
    "collapsed": false
   },
   "source": [
    "for indexA, itemA in dframe_efAkcije.iterrows():\n",
    "    if(itemA[\"gameTimeSection\"] == \"FirstHalf\" and itemA[\"awayTeamSide\"] == \"left\" and itemA[\"domaci\"]==\"Eintracht Frankfurt\"):\n",
    "        \n",
    "        dframe_efAkcije.loc[indexA, \"actionPosX1\"] = 1400 - int(itemA[\"actionPosX1\"])\n",
    "        dframe_efAkcije.loc[indexA, \"actionPosY1\"] = 900 - int(itemA[\"actionPosY1\"])\n",
    "        dframe_efAkcije.loc[indexA, \"actionPosX2\"] = 1400 - int(itemA[\"actionPosX2\"])\n",
    "        dframe_efAkcije.loc[indexA, \"actionPosY2\"] = 900 - int(itemA[\"actionPosY2\"])\n",
    "            \n",
    "            \n",
    "            \n",
    "        #dframe_efAkcije.set_value(indexA, \"actionPosX1\", (1400 - itemA[\"actionPosX1\"]))\n",
    "        #dframe_efAkcije.set_value(indexA, \"actionPosY1\", (900 - itemA[\"actionPosY1\"]))\n",
    "        #dframe_efAkcije.set_value(indexA, \"actionPosX2\", (1400 - itemA[\"actionPosX2\"]))\n",
    "        #dframe_efAkcije.set_value(indexA, \"actionPosY2\", (900 - itemA[\"actionPosY2\"]))\n",
    "            \n",
    "        #print (1400 - int(itemB[\"actionPosX1\"]))\n",
    "        #print (900 - int(itemB[\"actionPosY1\"]))\n",
    "        #print (1400 - int(itemB[\"actionPosX2\"]))\n",
    "        #print (900 - int(itemB[\"actionPosY2\"]))\n",
    "\n",
    "    if (itemA[\"gameTimeSection\"] == \"FirstHalf\" and itemA[\"awayTeamSide\"] == \"right\" and itemA[\"gosti\"]==\"Eintracht Frankfurt\"):\n",
    "        dframe_efAkcije.loc[indexA, \"actionPosX1\"] = 1400 - int(itemA[\"actionPosX1\"])\n",
    "        dframe_efAkcije.loc[indexA, \"actionPosY1\"] = 900 - int(itemA[\"actionPosY1\"])\n",
    "        dframe_efAkcije.loc[indexA, \"actionPosX2\"] = 1400 - int(itemA[\"actionPosX2\"])\n",
    "        dframe_efAkcije.loc[indexA, \"actionPosY2\"] = 900 - int(itemA[\"actionPosY2\"])\n",
    "            \n",
    "            \n",
    "        \n",
    "    if (itemA[\"gameTimeSection\"] == \"SecondHalf\" and itemA[\"awayTeamSide\"] == \"right\" and itemA[\"gosti\"]==\"Eintracht Frankfurt\"):\n",
    "        dframe_efAkcije.loc[indexA, \"actionPosX1\"] = 1400 - int(itemA[\"actionPosX1\"])\n",
    "        dframe_efAkcije.loc[indexA, \"actionPosY1\"] = 900 - int(itemA[\"actionPosY1\"])\n",
    "        dframe_efAkcije.loc[indexA, \"actionPosX2\"] = 1400 - int(itemA[\"actionPosX2\"])\n",
    "        dframe_efAkcije.loc[indexA, \"actionPosY2\"] = 900 - int(itemA[\"actionPosY2\"])\n",
    "            \n",
    "\n",
    "      \n",
    "      "
   ]
  },
  {
   "cell_type": "markdown",
   "metadata": {
    "collapsed": false
   },
   "source": [
    "dframe_efAkcije.to_csv(\"mirroringEF.csv\")"
   ]
  },
  {
   "cell_type": "code",
   "execution_count": 54,
   "metadata": {
    "collapsed": true
   },
   "outputs": [],
   "source": [
    "dframe_efAkcije = pd.read_csv(\"mirroringEF.csv\")"
   ]
  },
  {
   "cell_type": "code",
   "execution_count": 59,
   "metadata": {
    "collapsed": false
   },
   "outputs": [],
   "source": [
    "#dframe_FL_247 = pd.DataFrame(columns=['ID','playerID','targetPlayerID','actionPosX1', 'actionPosX2', 'actionPosY1','actionPosY2','start_sector',\"end_sector\"])\n",
    "#dframe_SR_247 = pd.DataFrame(columns=['ID','playerID','targetPlayerID','actionPosX1', 'actionPosX2', 'actionPosY1','actionPosY2','start_sector',\"end_sector\"]) \n",
    "dframe_graph = pd.DataFrame(columns=['ID','playerID','targetPlayerID','actionPosX1', 'actionPosX2', 'actionPosY1','actionPosY2','start_sector',\"end_sector\"])\n",
    "for indexB, itemB in dframe_efAkcije.iterrows():\n",
    "    #if(itemB[\"gameTimeSection\"] == \"FirstHalf\"):\n",
    "    if (itemB[\"actionOptionID\"] == 377):\n",
    "        dframe_graph.loc[len(dframe_graph)] = itemB\n",
    "            \n",
    "    #if(itemB[\"gameTimeSection\"] == \"SecondHalf\"):\n",
    "       # if (itemB[\"actionID\"] == 1):\n",
    "            #dframe_SR_247.loc[len(dframe_SR_247)] = itemB"
   ]
  },
  {
   "cell_type": "code",
   "execution_count": null,
   "metadata": {
    "collapsed": false
   },
   "outputs": [
    {
     "data": {
      "text/html": [
       "<div>\n",
       "<table border=\"1\" class=\"dataframe\">\n",
       "  <thead>\n",
       "    <tr style=\"text-align: right;\">\n",
       "      <th></th>\n",
       "      <th>ID</th>\n",
       "      <th>playerID</th>\n",
       "      <th>targetPlayerID</th>\n",
       "      <th>actionPosX1</th>\n",
       "      <th>actionPosX2</th>\n",
       "      <th>actionPosY1</th>\n",
       "      <th>actionPosY2</th>\n",
       "      <th>start_sector</th>\n",
       "      <th>end_sector</th>\n",
       "    </tr>\n",
       "  </thead>\n",
       "  <tbody>\n",
       "    <tr>\n",
       "      <th>0</th>\n",
       "      <td>6306949</td>\n",
       "      <td>5335</td>\n",
       "      <td>39442</td>\n",
       "      <td>170</td>\n",
       "      <td>186</td>\n",
       "      <td>727.00</td>\n",
       "      <td>511.00</td>\n",
       "      <td>4</td>\n",
       "      <td>8</td>\n",
       "    </tr>\n",
       "    <tr>\n",
       "      <th>1</th>\n",
       "      <td>6382114</td>\n",
       "      <td>196661</td>\n",
       "      <td>116414</td>\n",
       "      <td>608</td>\n",
       "      <td>250</td>\n",
       "      <td>701.00</td>\n",
       "      <td>372.00</td>\n",
       "      <td>3</td>\n",
       "      <td>12</td>\n",
       "    </tr>\n",
       "    <tr>\n",
       "      <th>2</th>\n",
       "      <td>6603219</td>\n",
       "      <td>196633</td>\n",
       "      <td>54495</td>\n",
       "      <td>197</td>\n",
       "      <td>241</td>\n",
       "      <td>149.32</td>\n",
       "      <td>212.32</td>\n",
       "      <td>1</td>\n",
       "      <td>1</td>\n",
       "    </tr>\n",
       "    <tr>\n",
       "      <th>3</th>\n",
       "      <td>6763117</td>\n",
       "      <td>212914</td>\n",
       "      <td>29485</td>\n",
       "      <td>81</td>\n",
       "      <td>172</td>\n",
       "      <td>686.32</td>\n",
       "      <td>483.32</td>\n",
       "      <td>13</td>\n",
       "      <td>9</td>\n",
       "    </tr>\n",
       "    <tr>\n",
       "      <th>4</th>\n",
       "      <td>6763282</td>\n",
       "      <td>5335</td>\n",
       "      <td>212914</td>\n",
       "      <td>190</td>\n",
       "      <td>157</td>\n",
       "      <td>156.32</td>\n",
       "      <td>459.32</td>\n",
       "      <td>1</td>\n",
       "      <td>9</td>\n",
       "    </tr>\n",
       "    <tr>\n",
       "      <th>5</th>\n",
       "      <td>6763309</td>\n",
       "      <td>212914</td>\n",
       "      <td>0</td>\n",
       "      <td>186</td>\n",
       "      <td>29</td>\n",
       "      <td>688.32</td>\n",
       "      <td>529.32</td>\n",
       "      <td>13</td>\n",
       "      <td>9</td>\n",
       "    </tr>\n",
       "    <tr>\n",
       "      <th>6</th>\n",
       "      <td>6869481</td>\n",
       "      <td>21022</td>\n",
       "      <td>143853</td>\n",
       "      <td>674</td>\n",
       "      <td>548</td>\n",
       "      <td>325.00</td>\n",
       "      <td>358.00</td>\n",
       "      <td>11</td>\n",
       "      <td>11</td>\n",
       "    </tr>\n",
       "  </tbody>\n",
       "</table>\n",
       "</div>"
      ],
      "text/plain": [
       "        ID  playerID  targetPlayerID  actionPosX1  actionPosX2  actionPosY1  \\\n",
       "0  6306949      5335           39442          170          186       727.00   \n",
       "1  6382114    196661          116414          608          250       701.00   \n",
       "2  6603219    196633           54495          197          241       149.32   \n",
       "3  6763117    212914           29485           81          172       686.32   \n",
       "4  6763282      5335          212914          190          157       156.32   \n",
       "5  6763309    212914               0          186           29       688.32   \n",
       "6  6869481     21022          143853          674          548       325.00   \n",
       "\n",
       "   actionPosY2  start_sector  end_sector  \n",
       "0       511.00             4           8  \n",
       "1       372.00             3          12  \n",
       "2       212.32             1           1  \n",
       "3       483.32            13           9  \n",
       "4       459.32             1           9  \n",
       "5       529.32            13           9  \n",
       "6       358.00            11          11  "
      ]
     },
     "execution_count": 60,
     "metadata": {},
     "output_type": "execute_result"
    }
   ],
   "source": [
    "dframe_graph"
   ]
  },
  {
   "cell_type": "code",
   "execution_count": null,
   "metadata": {
    "collapsed": false
   },
   "outputs": [],
   "source": [
    "dfx1Doma = dframe_graph['actionPosX1']\n",
    "dfy1Doma = dframe_graph['actionPosY1']\n",
    "dfx2Doma = dframe_graph['actionPosX2']\n",
    "dfy2Doma = dframe_graph['actionPosY2']\n",
    "\n",
    "#dfx1Gosti = dfGosti['actionPosX1']\n",
    "#dfy1Gosti = dfGosti['actionPosY1']\n",
    "#dfx2Gosti = dfGosti['actionPosX2']\n",
    "#dfy2Gosti = dfGosti['actionPosY2']\n",
    "\n",
    "fig = plt.figure(figsize = (12, 24))\n",
    "fig.clf()\n",
    "ax1 = fig.add_subplot(1,1,1)\n",
    "ax2 = fig.add_subplot(1,1,1)\n",
    "ax3 = fig.add_subplot(1,1,1)\n",
    "ax4 = fig.add_subplot(1,1,1)\n",
    "\n",
    "plt.plot([dfx1Doma, dfx2Doma], [dfy1Doma, dfy2Doma], c='black')\n",
    "#plt.plot([dfx1Gosti, dfx2Gosti], [dfy1Gosti, dfy2Gosti], c='black')\n",
    "plt.yticks([0,225,450,675,900])\n",
    "plt.xticks([0,350,700,1050,1400])\n",
    "im = plt.imread('igraliste2.png')\n",
    "ax1.scatter(dfx1Doma, dfy1Doma, s=60, zorder=1, c='b', label='Početak doma')\n",
    "ax2.scatter(dfx2Doma, dfy2Doma, s=60, zorder=1, c='y', label='Kraj doma')\n",
    "#ax3.scatter(dfx1Gosti, dfy1Gosti, s=60, zorder=1, c='r', label='Početak gosti')\n",
    "#ax4.scatter(dfx2Gosti, dfy2Gosti, s=60, zorder=1, c='c', label='Kraj gosti')\n",
    "\n",
    "implot = plt.imshow(im, zorder=0, extent=[0, 1400, 900, 0])\n",
    "plt.xlabel('actionPosX')\n",
    "plt.ylabel('actionPosY')\n",
    "plt.title('Lokacije početka i kraja centaršutova prema koordinatama - Mgladbach ukupno')\n",
    "\n",
    "plt.legend(loc='upper center')\n",
    "plt.show()"
   ]
  },
  {
   "cell_type": "markdown",
   "metadata": {
    "collapsed": true
   },
   "source": [
    "dfx1Doma = dframe_SR_247['actionPosX1']\n",
    "dfy1Doma = dframe_SR_247['actionPosY1']\n",
    "dfx2Doma = dframe_SR_247['actionPosX2']\n",
    "dfy2Doma = dframe_SR_247['actionPosY2']\n",
    "\n",
    "\n",
    "dfx1Doma = dframe_SR_247['actionPosX1']\n",
    "dfy1Doma = dframe_SR_247['actionPosY1']\n",
    "dfx2Doma = dframe_SR_247['actionPosX2']\n",
    "dfy2Doma = dframe_SR_247['actionPosY2']\n",
    "#dfx1Gosti = dfGosti['actionPosX1']\n",
    "#dfy1Gosti = dfGosti['actionPosY1']\n",
    "#dfx2Gosti = dfGosti['actionPosX2']\n",
    "#dfy2Gosti = dfGosti['actionPosY2']\n",
    "\n",
    "fig = plt.figure(figsize = (12, 24))\n",
    "fig.clf()\n",
    "ax1 = fig.add_subplot(1,1,1)\n",
    "ax2 = fig.add_subplot(1,1,1)\n",
    "ax3 = fig.add_subplot(1,1,1)\n",
    "ax4 = fig.add_subplot(1,1,1)\n",
    "\n",
    "plt.plot([dfx1Doma, dfx2Doma], [dfy1Doma, dfy2Doma], c='black')\n",
    "#plt.plot([dfx1Gosti, dfx2Gosti], [dfy1Gosti, dfy2Gosti], c='black')\n",
    "plt.yticks([0,225,450,675,900])\n",
    "plt.xticks([0,350,700,1050,1400])\n",
    "im = plt.imread('igraliste2.png')\n",
    "ax1.scatter(dfx1Doma, dfy1Doma, s=60, zorder=1, c='b', label='Početak doma')\n",
    "ax2.scatter(dfx2Doma, dfy2Doma, s=60, zorder=1, c='y', label='Kraj doma')\n",
    "#ax3.scatter(dfx1Gosti, dfy1Gosti, s=60, zorder=1, c='r', label='Početak gosti')\n",
    "#ax4.scatter(dfx2Gosti, dfy2Gosti, s=60, zorder=1, c='c', label='Kraj gosti')\n",
    "\n",
    "implot = plt.imshow(im, zorder=0, extent=[0, 1400, 900, 0])\n",
    "plt.xlabel('actionPosX')\n",
    "plt.ylabel('actionPosY')\n",
    "plt.title('Lokacije početka i kraja centaršutova prema koordinatama - Mgladbach ukupno')\n",
    "\n",
    "plt.legend(loc='upper center')\n",
    "plt.show()"
   ]
  },
  {
   "cell_type": "code",
   "execution_count": null,
   "metadata": {
    "collapsed": true
   },
   "outputs": [],
   "source": []
  },
  {
   "cell_type": "code",
   "execution_count": null,
   "metadata": {
    "collapsed": true
   },
   "outputs": [],
   "source": []
  }
 ],
 "metadata": {
  "kernelspec": {
   "display_name": "Python 3",
   "language": "python",
   "name": "python3"
  },
  "language_info": {
   "codemirror_mode": {
    "name": "ipython",
    "version": 3
   },
   "file_extension": ".py",
   "mimetype": "text/x-python",
   "name": "python",
   "nbconvert_exporter": "python",
   "pygments_lexer": "ipython3",
   "version": "3.5.1"
  }
 },
 "nbformat": 4,
 "nbformat_minor": 0
}
