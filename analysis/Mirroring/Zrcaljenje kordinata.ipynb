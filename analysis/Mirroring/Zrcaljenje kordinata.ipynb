{
 "cells": [
  {
   "cell_type": "code",
   "execution_count": 3,
   "metadata": {
    "collapsed": true
   },
   "outputs": [],
   "source": [
    "import numpy as np\n",
    "import seaborn as sns\n",
    "import pandas as pd\n",
    "from pandas import Series,DataFrame\n",
    "import os\n",
    "import matplotlib.pyplot as plt\n",
    "import warnings\n",
    "warnings.filterwarnings('ignore')\n",
    "\n",
    "#Dohvacanje CSV datoteke za utakmice \n",
    "fileDirU = os.path.dirname(os.path.realpath('mozgalo_gladbach_eintracht_utakmice.csv'))\n",
    "filenameU = os.path.join(fileDirU, '../../data/clean/mozgalo_gladbach_eintracht_utakmice.csv')\n",
    "fileU = os.path.abspath(os.path.realpath(filenameU))\n",
    "\n",
    "#Dohvacanje CSV datoteke za akcije\n",
    "fileDirA = os.path.dirname(os.path.realpath('mozgalo_gladbach_eintracht_akcije.csv'))\n",
    "filenameA = os.path.join(fileDirA, '../../data/new_attributes/mozgalo_gladbach_eintracht_akcije.csv')\n",
    "fileA = os.path.abspath(os.path.realpath(filenameA))\n",
    "\n",
    "#Dohvacanje XLSX datoteke za akcije\n",
    "fileDirC = os.path.dirname(os.path.realpath('Once - Lista akcija.xlsx'))\n",
    "filenameC = os.path.join(fileDirA, '../../data/clean/Once - Lista akcija.xlsx')\n",
    "fileC = os.path.abspath(os.path.realpath(filenameC))\n",
    "\n",
    "#Dohvacanje XLSX datoteke za pozicije igrača\n",
    "fileDirD = os.path.dirname(os.path.realpath('once_player_position.xlsx'))\n",
    "filenameD = os.path.join(fileDirD, '../../data/clean/once_player_position.xlsx')\n",
    "fileD = os.path.abspath(os.path.realpath(filenameD))"
   ]
  },
  {
   "cell_type": "code",
   "execution_count": 4,
   "metadata": {
    "collapsed": false
   },
   "outputs": [],
   "source": [
    "dframe_utakmice = pd.read_csv(fileU)\n",
    "dframe_efAkcije = pd.read_csv(\"Eintracht_ukupneAkcije.csv\")\n",
    "dframe_bmAkcije = pd.read_csv(\"Mgladbach_ukupneAkcije.csv\")"
   ]
  },
  {
   "cell_type": "code",
   "execution_count": null,
   "metadata": {
    "collapsed": false
   },
   "outputs": [],
   "source": []
  },
  {
   "cell_type": "code",
   "execution_count": 5,
   "metadata": {
    "collapsed": true
   },
   "outputs": [],
   "source": [
    "for indexA, itemA in dframe_efAkcije.iterrows():\n",
    "    if((itemA[\"gameTimeSection\"] == \"FirstHalf\" and itemA[\"awayTeamSide\"] == \"left\" and itemA[\"domaci\"]==\"Eintracht Frankfurt\") or\n",
    "       (itemA[\"gameTimeSection\"] == \"FirstHalf\" and itemA[\"awayTeamSide\"] == \"right\" and itemA[\"gosti\"]==\"Eintracht Frankfurt\") or\n",
    "       (itemA[\"gameTimeSection\"] == \"SecondHalf\" and itemA[\"awayTeamSide\"] == \"right\" and itemA[\"gosti\"]==\"Eintracht Frankfurt\") or\n",
    "       (itemA[\"gameTimeSection\"] == \"SecondHalf\" and itemA[\"awayTeamSide\"] == \"left\" and itemA[\"domaci\"]==\"Eintracht Frankfurt\")):\n",
    "        \n",
    "        dframe_efAkcije.loc[indexA, \"actionPosX1\"] = 1400 - int(itemA[\"actionPosX1\"])\n",
    "        dframe_efAkcije.loc[indexA, \"actionPosY1\"] = 900 - int(itemA[\"actionPosY1\"])\n",
    "        dframe_efAkcije.loc[indexA, \"actionPosX2\"] = 1400 - int(itemA[\"actionPosX2\"])\n",
    "        dframe_efAkcije.loc[indexA, \"actionPosY2\"] = 900 - int(itemA[\"actionPosY2\"])"
   ]
  },
  {
   "cell_type": "code",
   "execution_count": 6,
   "metadata": {
    "collapsed": true
   },
   "outputs": [],
   "source": [
    "for indexA, itemA in dframe_bmAkcije.iterrows():\n",
    "     if((itemA[\"gameTimeSection\"] == \"FirstHalf\" and itemA[\"awayTeamSide\"] == \"right\" and itemA[\"domaci\"]==\"Borussia Mgladbach\") or\n",
    "        (itemA[\"gameTimeSection\"] == \"FirstHalf\" and itemA[\"awayTeamSide\"] == \"left\" and itemA[\"gosti\"]==\"Borussia Mgladbach\") or\n",
    "        (itemA[\"gameTimeSection\"] == \"SecondHalf\" and itemA[\"awayTeamSide\"] == \"right\" and itemA[\"domaci\"]==\"Borussia Mgladbach\") or \n",
    "        (itemA[\"gameTimeSection\"] == \"SecondHalf\" and itemA[\"awayTeamSide\"] == \"left\" and itemA[\"gosti\"]==\"Borussia Mgladbach\")):\n",
    "        \n",
    "        dframe_bmAkcije.loc[indexA, \"actionPosX1\"] = 1400 - int(itemA[\"actionPosX1\"])\n",
    "        dframe_bmAkcije.loc[indexA, \"actionPosY1\"] = 900 - int(itemA[\"actionPosY1\"])\n",
    "        dframe_bmAkcije.loc[indexA, \"actionPosX2\"] = 1400 - int(itemA[\"actionPosX2\"])\n",
    "        dframe_bmAkcije.loc[indexA, \"actionPosY2\"] = 900 - int(itemA[\"actionPosY2\"])"
   ]
  },
  {
   "cell_type": "code",
   "execution_count": 7,
   "metadata": {
    "collapsed": true
   },
   "outputs": [],
   "source": [
    "dframe_efAkcije.to_csv(\"mirroringEF.csv\")\n",
    "dframe_bmAkcije.to_csv(\"mirroringBM.csv\")"
   ]
  },
  {
   "cell_type": "code",
   "execution_count": 54,
   "metadata": {
    "collapsed": true
   },
   "outputs": [],
   "source": [
    "#dframe_efAkcije = pd.read_csv(\"mirroringEF.csv\")"
   ]
  },
  {
   "cell_type": "markdown",
   "metadata": {
    "collapsed": false
   },
   "source": [
    "#dframe_FL_247 = pd.DataFrame(columns=['ID','playerID','targetPlayerID','actionPosX1', 'actionPosX2', 'actionPosY1','actionPosY2','start_sector',\"end_sector\"])\n",
    "#dframe_SR_247 = pd.DataFrame(columns=['ID','playerID','targetPlayerID','actionPosX1', 'actionPosX2', 'actionPosY1','actionPosY2','start_sector',\"end_sector\"]) \n",
    "dframe_graph = pd.DataFrame(columns=['ID','playerID','targetPlayerID','actionPosX1', 'actionPosX2', 'actionPosY1','actionPosY2','start_sector',\"end_sector\"])\n",
    "for indexB, itemB in dframe_efAkcije.iterrows():\n",
    "    #if(itemB[\"gameTimeSection\"] == \"FirstHalf\"):\n",
    "    if (itemB[\"actionID\"] == 260):\n",
    "        dframe_graph.loc[len(dframe_graph)] = itemB\n",
    "            \n",
    "    #if(itemB[\"gameTimeSection\"] == \"SecondHalf\"):\n",
    "       # if (itemB[\"actionID\"] == 1):\n",
    "            #dframe_SR_247.loc[len(dframe_SR_247)] = itemB"
   ]
  },
  {
   "cell_type": "markdown",
   "metadata": {
    "collapsed": false
   },
   "source": [
    "dframe_graph"
   ]
  },
  {
   "cell_type": "markdown",
   "metadata": {
    "collapsed": false
   },
   "source": [
    "dfx1Doma = dframe_graph['actionPosX1']\n",
    "dfy1Doma = dframe_graph['actionPosY1']\n",
    "dfx2Doma = dframe_graph['actionPosX2']\n",
    "dfy2Doma = dframe_graph['actionPosY2']\n",
    "\n",
    "#dfx1Gosti = dfGosti['actionPosX1']\n",
    "#dfy1Gosti = dfGosti['actionPosY1']\n",
    "#dfx2Gosti = dfGosti['actionPosX2']\n",
    "#dfy2Gosti = dfGosti['actionPosY2']\n",
    "\n",
    "fig = plt.figure(figsize = (12, 24))\n",
    "fig.clf()\n",
    "ax1 = fig.add_subplot(1,1,1)\n",
    "ax2 = fig.add_subplot(1,1,1)\n",
    "ax3 = fig.add_subplot(1,1,1)\n",
    "ax4 = fig.add_subplot(1,1,1)\n",
    "\n",
    "plt.plot([dfx1Doma, dfx2Doma], [dfy1Doma, dfy2Doma], c='black')\n",
    "#plt.plot([dfx1Gosti, dfx2Gosti], [dfy1Gosti, dfy2Gosti], c='black')\n",
    "plt.yticks([0,225,450,675,900])\n",
    "plt.xticks([0,350,700,1050,1400])\n",
    "im = plt.imread('igraliste2.png')\n",
    "ax1.scatter(dfx1Doma, dfy1Doma, s=60, zorder=1, c='b', label='Početak doma')\n",
    "ax2.scatter(dfx2Doma, dfy2Doma, s=60, zorder=1, c='y', label='Kraj doma')\n",
    "#ax3.scatter(dfx1Gosti, dfy1Gosti, s=60, zorder=1, c='r', label='Početak gosti')\n",
    "#ax4.scatter(dfx2Gosti, dfy2Gosti, s=60, zorder=1, c='c', label='Kraj gosti')\n",
    "\n",
    "implot = plt.imshow(im, zorder=0, extent=[0, 1400, 900, 0])\n",
    "plt.xlabel('actionPosX')\n",
    "plt.ylabel('actionPosY')\n",
    "plt.title('Lokacije početka i kraja centaršutova prema koordinatama - Mgladbach ukupno')\n",
    "\n",
    "\n",
    "#def label_point(x, y, val, ax):\n",
    "#    a = pd.concat({'x': x, 'y': y, 'val': val}, axis=1)\n",
    "#    for i, point in a.iterrows():\n",
    "#        ax.text(point['x'], point['y'], str(point['val']))\n",
    "\n",
    "#label_point(dframe_graph.actionPosX1, dframe_graph.actionPosY1, dframe_graph.playerName, ax1)\n",
    "#label_point(dframe_graph.actionPosX2, dframe_graph.actionPosY2, dframe_graph.playerName, ax2)\n",
    "\n",
    "plt.legend(loc='upper center')\n",
    "plt.show()"
   ]
  },
  {
   "cell_type": "markdown",
   "metadata": {
    "collapsed": true
   },
   "source": [
    "dfx1Doma = dframe_SR_247['actionPosX1']\n",
    "dfy1Doma = dframe_SR_247['actionPosY1']\n",
    "dfx2Doma = dframe_SR_247['actionPosX2']\n",
    "dfy2Doma = dframe_SR_247['actionPosY2']\n",
    "\n",
    "\n",
    "dfx1Doma = dframe_SR_247['actionPosX1']\n",
    "dfy1Doma = dframe_SR_247['actionPosY1']\n",
    "dfx2Doma = dframe_SR_247['actionPosX2']\n",
    "dfy2Doma = dframe_SR_247['actionPosY2']\n",
    "#dfx1Gosti = dfGosti['actionPosX1']\n",
    "#dfy1Gosti = dfGosti['actionPosY1']\n",
    "#dfx2Gosti = dfGosti['actionPosX2']\n",
    "#dfy2Gosti = dfGosti['actionPosY2']\n",
    "\n",
    "fig = plt.figure(figsize = (12, 24))\n",
    "fig.clf()\n",
    "ax1 = fig.add_subplot(1,1,1)\n",
    "ax2 = fig.add_subplot(1,1,1)\n",
    "ax3 = fig.add_subplot(1,1,1)\n",
    "ax4 = fig.add_subplot(1,1,1)\n",
    "\n",
    "plt.plot([dfx1Doma, dfx2Doma], [dfy1Doma, dfy2Doma], c='black')\n",
    "#plt.plot([dfx1Gosti, dfx2Gosti], [dfy1Gosti, dfy2Gosti], c='black')\n",
    "plt.yticks([0,225,450,675,900])\n",
    "plt.xticks([0,350,700,1050,1400])\n",
    "im = plt.imread('igraliste2.png')\n",
    "ax1.scatter(dfx1Doma, dfy1Doma, s=60, zorder=1, c='b', label='Početak doma')\n",
    "ax2.scatter(dfx2Doma, dfy2Doma, s=60, zorder=1, c='y', label='Kraj doma')\n",
    "#ax3.scatter(dfx1Gosti, dfy1Gosti, s=60, zorder=1, c='r', label='Početak gosti')\n",
    "#ax4.scatter(dfx2Gosti, dfy2Gosti, s=60, zorder=1, c='c', label='Kraj gosti')\n",
    "\n",
    "implot = plt.imshow(im, zorder=0, extent=[0, 1400, 900, 0])\n",
    "plt.xlabel('actionPosX')\n",
    "plt.ylabel('actionPosY')\n",
    "plt.title('Lokacije početka i kraja centaršutova prema koordinatama - Mgladbach ukupno')\n",
    "\n",
    "plt.legend(loc='upper center')\n",
    "plt.show()"
   ]
  },
  {
   "cell_type": "code",
   "execution_count": null,
   "metadata": {
    "collapsed": true
   },
   "outputs": [],
   "source": []
  },
  {
   "cell_type": "code",
   "execution_count": null,
   "metadata": {
    "collapsed": true
   },
   "outputs": [],
   "source": []
  }
 ],
 "metadata": {
  "kernelspec": {
   "display_name": "Python 3",
   "language": "python",
   "name": "python3"
  },
  "language_info": {
   "codemirror_mode": {
    "name": "ipython",
    "version": 3
   },
   "file_extension": ".py",
   "mimetype": "text/x-python",
   "name": "python",
   "nbconvert_exporter": "python",
   "pygments_lexer": "ipython3",
   "version": "3.5.1"
  }
 },
 "nbformat": 4,
 "nbformat_minor": 0
}
