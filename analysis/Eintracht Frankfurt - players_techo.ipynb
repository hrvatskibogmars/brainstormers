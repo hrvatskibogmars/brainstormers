{
 "cells": [
  {
   "cell_type": "code",
   "execution_count": 7,
   "metadata": {
    "collapsed": false
   },
   "outputs": [],
   "source": [
    "import numpy as np\n",
    "import seaborn as sns\n",
    "import pandas as pd\n",
    "from pandas import Series,DataFrame\n",
    "import os\n",
    "\n",
    "\n",
    "#Dohvacanje CSV datoteke za akcije\n",
    "fileDirA = os.path.dirname(os.path.realpath('mozgalo_gladbach_eintracht_akcije.csv'))\n",
    "filenameA = os.path.join(fileDirA, '../data/new_attributes/mozgalo_gladbach_eintracht_akcije.csv')\n",
    "fileA = os.path.abspath(os.path.realpath(filenameA))\n",
    "\n",
    "#Dohvacanje CSV datoteke za utakmice \n",
    "fileDirU = os.path.dirname(os.path.realpath('mozgalo_gladbach_eintracht_utakmice.csv'))\n",
    "filenameU = os.path.join(fileDirU, '../data/clean/mozgalo_gladbach_eintracht_utakmice.csv')\n",
    "fileU = os.path.abspath(os.path.realpath(filenameU))\n",
    "\n",
    "#učitavanje csva sa igračima Eintrachta\n",
    "df = pd.read_csv(\"preostali_igraci.csv\", sep = \",\")\n",
    "\n",
    "#učitavanje akcija\n",
    "akcijedf = pd.read_csv(fileA, sep = \",\")\n",
    "\n",
    "#učitavanje utakmica\n",
    "dframe_utakmice = pd.read_csv(fileU,sep=\",\")\n",
    "dframe_utakmice = dframe_utakmice.drop(dframe_utakmice.columns[[range(3,21)]],axis =1)\n",
    "akcije_filt = akcijedf[['ID', 'gameID', 'actionID', 'bindedActionID', 'actionOptionID', 'playerID',\\\n",
    "                              'playerTeam', 'targetPlayerID']]\n",
    "#spajanje dataframeova\n",
    "akcije = pd.merge(akcije_filt, dframe_utakmice,left_on=\"gameID\",right_on=\"ID\")\n",
    "akcije.drop(\"ID_y\",axis=1,inplace=True)\n",
    "akcije.columns = ['ID', 'gameID', 'actionID', 'bindedActionID', 'actionOptionID',\\\n",
    "                                        'playerID', 'playerTeam', 'targetPlayerID', 'domaci', 'gosti']\n",
    "\n",
    "#novi dataframe za spremanje upitnih igrača\n",
    "upitni_igraci = pd.DataFrame(columns = ['ID', 'gameID', 'actionID', 'bindedActionID', 'actionOptionID',\\\n",
    "                                        'playerID', 'playerTeam', 'targetPlayerID', 'domaci', 'gosti'])\n"
   ]
  },
  {
   "cell_type": "code",
   "execution_count": 2,
   "metadata": {
    "collapsed": false
   },
   "outputs": [],
   "source": [
    "#dodavanje upitnih igrača u novi dataframe\n",
    "for index, item in df.iterrows():\n",
    "    for index2, item2 in akcije.iterrows():\n",
    "        if(int(item['playerID']) == int(item2['playerID'])):\n",
    "            upitni_igraci.loc[len(upitni_igraci)] = item2\n",
    "            \n",
    "upitni_igraci.to_excel(\"upitni_igraci.xls\")"
   ]
  },
  {
   "cell_type": "code",
   "execution_count": null,
   "metadata": {
    "collapsed": true
   },
   "outputs": [],
   "source": []
  }
 ],
 "metadata": {
  "kernelspec": {
   "display_name": "Python 3",
   "language": "python",
   "name": "python3"
  },
  "language_info": {
   "codemirror_mode": {
    "name": "ipython",
    "version": 3
   },
   "file_extension": ".py",
   "mimetype": "text/x-python",
   "name": "python",
   "nbconvert_exporter": "python",
   "pygments_lexer": "ipython3",
   "version": "3.5.1"
  }
 },
 "nbformat": 4,
 "nbformat_minor": 0
}
