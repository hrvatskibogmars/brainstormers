{
 "cells": [
  {
   "cell_type": "code",
   "execution_count": 1,
   "metadata": {
    "collapsed": false
   },
   "outputs": [],
   "source": [
    "import numpy as np\n",
    "import seaborn as sns\n",
    "import pandas as pd\n",
    "from pandas import Series,DataFrame\n",
    "import os\n",
    "\n",
    "#Dohvacanje CSV datoteke za utakmice \n",
    "fileDirU = os.path.dirname(os.path.realpath('mozgalo_gladbach_eintracht_utakmice.csv'))\n",
    "filenameU = os.path.join(fileDirU, '../../data/clean/mozgalo_gladbach_eintracht_utakmice.csv')\n",
    "fileU = os.path.abspath(os.path.realpath(filenameU))\n",
    "\n",
    "#Dohvacanje CSV datoteke za akcije\n",
    "fileDirA = os.path.dirname(os.path.realpath('mozgalo_gladbach_eintracht_akcije.csv'))\n",
    "filenameA = os.path.join(fileDirA, '../../data/clean/mozgalo_gladbach_eintracht_akcije.csv')\n",
    "fileA = os.path.abspath(os.path.realpath(filenameA))\n",
    "\n",
    "#Dohvacanje XLSX datoteke za akcije\n",
    "fileDirC = os.path.dirname(os.path.realpath('Once - Lista akcija.xlsx'))\n",
    "filenameC = os.path.join(fileDirA, '../../data/clean/Once - Lista akcija.xlsx')\n",
    "fileC = os.path.abspath(os.path.realpath(filenameC))\n",
    "\n",
    "#Dohvacanje XLSX datoteke za pozicije igrača\n",
    "fileDirD = os.path.dirname(os.path.realpath('once_player_position.xlsx'))\n",
    "filenameD = os.path.join(fileDirD, '../../data/clean/once_player_position.xlsx')\n",
    "fileD = os.path.abspath(os.path.realpath(filenameD))"
   ]
  },
  {
   "cell_type": "code",
   "execution_count": null,
   "metadata": {
    "collapsed": false
   },
   "outputs": [],
   "source": [
    "dframe_akcije = pd.read_csv(fileA,sep=\",\")\n",
    "dframe_utakmice = pd.read_csv(fileU,sep=\",\")\n",
    "dframe_ef = pd.read_excel(\"efPlayers.xls\")\n",
    "dframe_bm = pd.read_excel(\"bmPlayers.xls\")"
   ]
  },
  {
   "cell_type": "code",
   "execution_count": null,
   "metadata": {
    "collapsed": false
   },
   "outputs": [],
   "source": [
    "dframe_bmActions = dframe_akcije\n",
    "for indexA,itemA in dframe_ef.iterrows():\n",
    "    for indexB,itemB in dframe_akcije.iterrows():\n",
    "        if(itemA[\"playerID\"] == itemB[\"playerID\"]):\n",
    "            dframe_bmActions.loc[len(dframe_bmActions)] = itemB"
   ]
  },
  {
   "cell_type": "code",
   "execution_count": null,
   "metadata": {
    "collapsed": true
   },
   "outputs": [],
   "source": [
    "dframe_bmActions.reset_index(drop=True,inplace=True)\n",
    "dframe_bmActions"
   ]
  },
  {
   "cell_type": "code",
   "execution_count": null,
   "metadata": {
    "collapsed": true
   },
   "outputs": [],
   "source": []
  }
 ],
 "metadata": {
  "kernelspec": {
   "display_name": "Python 3",
   "language": "python",
   "name": "python3"
  },
  "language_info": {
   "codemirror_mode": {
    "name": "ipython",
    "version": 3
   },
   "file_extension": ".py",
   "mimetype": "text/x-python",
   "name": "python",
   "nbconvert_exporter": "python",
   "pygments_lexer": "ipython3",
   "version": "3.5.1"
  }
 },
 "nbformat": 4,
 "nbformat_minor": 0
}
