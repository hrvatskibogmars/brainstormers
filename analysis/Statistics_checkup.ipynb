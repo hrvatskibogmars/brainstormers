{
 "cells": [
  {
   "cell_type": "markdown",
   "metadata": {},
   "source": [
    "## Atribut 'temperature' iz utakmice.csv"
   ]
  },
  {
   "cell_type": "markdown",
   "metadata": {},
   "source": [
    "Srednja vrijednost i medijan su jako blizu i to znači da za atribut temperature ne postoje vrijednosti koje jako odstupaju i koje bi narušavale taj odnos, ne postoje outliers. To znači da je senzor dobro mjeril i da je app dobro zapisala temperaturu.\n",
    "Mod je najčešća vrijednost koja se pojavljuje, znači 4 stupnja i to 8 puta.\n",
    "Standardna devijacija je odstupanje od srednje vrijednosti i unutar tog intervala, između srednje vrijednosti i standardne devijacije (u plus i u minus od srednje vrijednosti za vrijednost standardne devijacije) se nalazi najviše vrijednosti. Znači najviše vrijednosti se nalazi između 3.xx i 9.xx stupnja celzijusa.\n",
    "\n",
    "Sve isto vrijedi za svaki atribut."
   ]
  },
  {
   "cell_type": "code",
   "execution_count": 2,
   "metadata": {
    "collapsed": false
   },
   "outputs": [
    {
     "name": "stdout",
     "output_type": "stream",
     "text": [
      "Srednja vrijednost: 6.83333333333\n",
      "Medijan: 7.0\n",
      "Standardna devijacija: 2.91070819943\n",
      "Mod: [4] Koliko puta se ta vrijednost pojavila: [8]\n"
     ]
    }
   ],
   "source": [
    "import pandas as pd\n",
    "import numpy as np\n",
    "from scipy import stats\n",
    "import os\n",
    "\n",
    "fileDir = os.path.dirname(os.path.realpath('mozgalo_gladbach_eintracht_utakmice.csv'))\n",
    "filename = os.path.join(fileDir, '../data/clean/mozgalo_gladbach_eintracht_utakmice.csv')\n",
    "file = os.path.abspath(os.path.realpath(filename))\n",
    "dataframe = pd.read_csv(file)\n",
    "temp = dataframe[\"temperature\"]\n",
    "temparray = np.array(temp)\n",
    "\n",
    "mean = np.mean(temparray)\n",
    "median = np.median(temparray)\n",
    "std_dev = np.std(temparray)\n",
    "mode = stats.mode(temparray)\n",
    "\n",
    "print(\"Srednja vrijednost: %s\" % mean)\n",
    "print(\"Medijan: %s\" % median)\n",
    "print(\"Standardna devijacija: %s\" % std_dev)\n",
    "print(\"Mod: %s\" % mode[0], \"Koliko puta se ta vrijednost pojavila: %s\" % mode[1])"
   ]
  },
  {
   "cell_type": "markdown",
   "metadata": {},
   "source": [
    "## 'viewers' iz utakmice.csv'"
   ]
  },
  {
   "cell_type": "code",
   "execution_count": 8,
   "metadata": {
    "collapsed": false
   },
   "outputs": [
    {
     "name": "stdout",
     "output_type": "stream",
     "text": [
      "Srednja vrijednost: 44011.3666667\n",
      "Medijan: 44402.0\n",
      "Standardna devijacija: 11371.4306297\n",
      "Mod: [30150] Koliko puta se ta vrijednost pojavila: [2]\n"
     ]
    }
   ],
   "source": [
    "import pandas as pd\n",
    "import numpy as np\n",
    "from scipy import stats\n",
    "import os\n",
    "\n",
    "fileDir = os.path.dirname(os.path.realpath('mozgalo_gladbach_eintracht_utakmice.csv'))\n",
    "filename = os.path.join(fileDir, '../data/clean/mozgalo_gladbach_eintracht_utakmice.csv')\n",
    "file = os.path.abspath(os.path.realpath(filename))\n",
    "dataframe = pd.read_csv(file)\n",
    "v = dataframe[\"viewers\"]\n",
    "varray = np.array(v)\n",
    "\n",
    "mean = np.mean(varray)\n",
    "median = np.median(varray)\n",
    "std_dev = np.std(varray)\n",
    "mode = stats.mode(varray)\n",
    "\n",
    "print(\"Srednja vrijednost: %s\" % mean)\n",
    "print(\"Medijan: %s\" % median)\n",
    "print(\"Standardna devijacija: %s\" % std_dev)\n",
    "print(\"Mod: %s\" % mode[0], \"Koliko puta se ta vrijednost pojavila: %s\" % mode[1])"
   ]
  },
  {
   "cell_type": "markdown",
   "metadata": {},
   "source": [
    "## 'touchNumber' iz akcije.csv"
   ]
  },
  {
   "cell_type": "code",
   "execution_count": 1,
   "metadata": {
    "collapsed": false
   },
   "outputs": [
    {
     "name": "stdout",
     "output_type": "stream",
     "text": [
      "Srednja vrijednost: 1.93837710256\n",
      "Medijan: 1.0\n",
      "Standardna devijacija: 1.62255314555\n",
      "Mod: [1] Koliko puta se ta vrijednost pojavila: [38596]\n"
     ]
    }
   ],
   "source": [
    "import pandas as pd\n",
    "import numpy as np\n",
    "from scipy import stats\n",
    "import os\n",
    "\n",
    "fileDir = os.path.dirname(os.path.realpath('mozgalo_gladbach_eintracht_akcije.csv'))\n",
    "filename = os.path.join(fileDir, '../data/clean/mozgalo_gladbach_eintracht_akcije.csv')\n",
    "file = os.path.abspath(os.path.realpath(filename))\n",
    "dataframe = pd.read_csv(file)\n",
    "t = dataframe[\"touchNumber\"]\n",
    "tarray = np.array(t)\n",
    "\n",
    "mean = np.mean(tarray)\n",
    "median = np.median(tarray)\n",
    "std_dev = np.std(tarray)\n",
    "mode = stats.mode(tarray)\n",
    "\n",
    "print(\"Srednja vrijednost: %s\" % mean)\n",
    "print(\"Medijan: %s\" % median)\n",
    "print(\"Standardna devijacija: %s\" % std_dev)\n",
    "print(\"Mod: %s\" % mode[0], \"Koliko puta se ta vrijednost pojavila: %s\" % mode[1])"
   ]
  },
  {
   "cell_type": "markdown",
   "metadata": {},
   "source": [
    "## 'distance' iz akcije.csv"
   ]
  },
  {
   "cell_type": "code",
   "execution_count": 10,
   "metadata": {
    "collapsed": false
   },
   "outputs": [
    {
     "name": "stdout",
     "output_type": "stream",
     "text": [
      "Srednja vrijednost: 16.8273840838\n",
      "Medijan: 13.6\n",
      "Standardna devijacija: 13.2008294807\n",
      "Mod: [ 0.] Koliko puta se ta vrijednost pojavila: [1846]\n"
     ]
    }
   ],
   "source": [
    "import pandas as pd\n",
    "import numpy as np\n",
    "from scipy import stats\n",
    "import os\n",
    "\n",
    "fileDir = os.path.dirname(os.path.realpath('mozgalo_gladbach_eintracht_akcije.csv'))\n",
    "filename = os.path.join(fileDir, '../data/clean/mozgalo_gladbach_eintracht_akcije.csv')\n",
    "file = os.path.abspath(os.path.realpath(filename))\n",
    "dataframe = pd.read_csv(file)\n",
    "d = dataframe[\"distance\"]\n",
    "darray = np.array(d)\n",
    "\n",
    "mean = np.mean(darray)\n",
    "median = np.median(darray)\n",
    "std_dev = np.std(darray)\n",
    "mode = stats.mode(darray)\n",
    "\n",
    "print(\"Srednja vrijednost: %s\" % mean)\n",
    "print(\"Medijan: %s\" % median)\n",
    "print(\"Standardna devijacija: %s\" % std_dev)\n",
    "print(\"Mod: %s\" % mode[0], \"Koliko puta se ta vrijednost pojavila: %s\" % mode[1])"
   ]
  },
  {
   "cell_type": "markdown",
   "metadata": {},
   "source": [
    "## 'actionPosX1' iz akcije.csv"
   ]
  },
  {
   "cell_type": "code",
   "execution_count": 11,
   "metadata": {
    "collapsed": false
   },
   "outputs": [
    {
     "name": "stdout",
     "output_type": "stream",
     "text": [
      "Srednja vrijednost: 676.200423711\n",
      "Medijan: 670.0\n",
      "Standardna devijacija: 329.059984375\n",
      "Mod: [0] Koliko puta se ta vrijednost pojavila: [170]\n"
     ]
    }
   ],
   "source": [
    "import pandas as pd\n",
    "import numpy as np\n",
    "from scipy import stats\n",
    "import os\n",
    "\n",
    "fileDir = os.path.dirname(os.path.realpath('mozgalo_gladbach_eintracht_akcije.csv'))\n",
    "filename = os.path.join(fileDir, '../data/clean/mozgalo_gladbach_eintracht_akcije.csv')\n",
    "file = os.path.abspath(os.path.realpath(filename))\n",
    "dataframe = pd.read_csv(file)\n",
    "actionPosX1 = dataframe[\"actionPosX1\"]\n",
    "x1 = np.array(actionPosX1)\n",
    "\n",
    "mean = np.mean(x1)\n",
    "median = np.median(x1)\n",
    "std_dev = np.std(x1)\n",
    "mode = stats.mode(x1)\n",
    "\n",
    "print(\"Srednja vrijednost: %s\" % mean)\n",
    "print(\"Medijan: %s\" % median)\n",
    "print(\"Standardna devijacija: %s\" % std_dev)\n",
    "print(\"Mod: %s\" % mode[0], \"Koliko puta se ta vrijednost pojavila: %s\" % mode[1])"
   ]
  },
  {
   "cell_type": "markdown",
   "metadata": {},
   "source": [
    "## 'actionPosX2' iz akcije.csv"
   ]
  },
  {
   "cell_type": "code",
   "execution_count": 12,
   "metadata": {
    "collapsed": false
   },
   "outputs": [
    {
     "name": "stdout",
     "output_type": "stream",
     "text": [
      "Srednja vrijednost: 659.619285948\n",
      "Medijan: 652.0\n",
      "Standardna devijacija: 354.282131012\n",
      "Mod: [0] Koliko puta se ta vrijednost pojavila: [1828]\n"
     ]
    }
   ],
   "source": [
    "import pandas as pd\n",
    "import numpy as np\n",
    "from scipy import stats\n",
    "import os\n",
    "\n",
    "fileDir = os.path.dirname(os.path.realpath('mozgalo_gladbach_eintracht_akcije.csv'))\n",
    "filename = os.path.join(fileDir, '../data/clean/mozgalo_gladbach_eintracht_akcije.csv')\n",
    "file = os.path.abspath(os.path.realpath(filename))\n",
    "dataframe = pd.read_csv(file)\n",
    "actionPosX2 = dataframe[\"actionPosX2\"]\n",
    "x2 = np.array(actionPosX2)\n",
    "\n",
    "mean = np.mean(x2)\n",
    "median = np.median(x2)\n",
    "std_dev = np.std(x2)\n",
    "mode = stats.mode(x2)\n",
    "\n",
    "print(\"Srednja vrijednost: %s\" % mean)\n",
    "print(\"Medijan: %s\" % median)\n",
    "print(\"Standardna devijacija: %s\" % std_dev)\n",
    "print(\"Mod: %s\" % mode[0], \"Koliko puta se ta vrijednost pojavila: %s\" % mode[1])"
   ]
  },
  {
   "cell_type": "markdown",
   "metadata": {},
   "source": [
    "## 'actionPosY1' iz akcije.csv"
   ]
  },
  {
   "cell_type": "code",
   "execution_count": 13,
   "metadata": {
    "collapsed": false
   },
   "outputs": [
    {
     "name": "stdout",
     "output_type": "stream",
     "text": [
      "Srednja vrijednost: 420.191174873\n",
      "Medijan: 423.32\n",
      "Standardna devijacija: 218.089596116\n",
      "Mod: [ 0.] Koliko puta se ta vrijednost pojavila: [170]\n"
     ]
    }
   ],
   "source": [
    "import pandas as pd\n",
    "import numpy as np\n",
    "from scipy import stats\n",
    "import os\n",
    "\n",
    "fileDir = os.path.dirname(os.path.realpath('mozgalo_gladbach_eintracht_akcije.csv'))\n",
    "filename = os.path.join(fileDir, '../data/clean/mozgalo_gladbach_eintracht_akcije.csv')\n",
    "file = os.path.abspath(os.path.realpath(filename))\n",
    "dataframe = pd.read_csv(file)\n",
    "actionPosY1 = dataframe[\"actionPosY1\"]\n",
    "y1 = np.array(actionPosY1)\n",
    "\n",
    "mean = np.mean(y1)\n",
    "median = np.median(y1)\n",
    "std_dev = np.std(y1)\n",
    "mode = stats.mode(y1)\n",
    "\n",
    "print(\"Srednja vrijednost: %s\" % mean)\n",
    "print(\"Medijan: %s\" % median)\n",
    "print(\"Standardna devijacija: %s\" % std_dev)\n",
    "print(\"Mod: %s\" % mode[0], \"Koliko puta se ta vrijednost pojavila: %s\" % mode[1])"
   ]
  },
  {
   "cell_type": "markdown",
   "metadata": {},
   "source": [
    "## 'actionPosY2' iz akcije.csv"
   ]
  },
  {
   "cell_type": "code",
   "execution_count": 14,
   "metadata": {
    "collapsed": false
   },
   "outputs": [
    {
     "name": "stdout",
     "output_type": "stream",
     "text": [
      "Srednja vrijednost: 408.745375439\n",
      "Medijan: 414.32\n",
      "Standardna devijacija: 221.882770775\n",
      "Mod: [ 0.] Koliko puta se ta vrijednost pojavila: [1828]\n"
     ]
    }
   ],
   "source": [
    "import pandas as pd\n",
    "import numpy as np\n",
    "from scipy import stats\n",
    "import os\n",
    "\n",
    "fileDir = os.path.dirname(os.path.realpath('mozgalo_gladbach_eintracht_akcije.csv'))\n",
    "filename = os.path.join(fileDir, '../data/clean/mozgalo_gladbach_eintracht_akcije.csv')\n",
    "file = os.path.abspath(os.path.realpath(filename))\n",
    "dataframe = pd.read_csv(file)\n",
    "actionPosY2 = dataframe[\"actionPosY2\"]\n",
    "y2 = np.array(actionPosY2)\n",
    "\n",
    "mean = np.mean(y2)\n",
    "median = np.median(y2)\n",
    "std_dev = np.std(y2)\n",
    "mode = stats.mode(y2)\n",
    "\n",
    "print(\"Srednja vrijednost: %s\" % mean)\n",
    "print(\"Medijan: %s\" % median)\n",
    "print(\"Standardna devijacija: %s\" % std_dev)\n",
    "print(\"Mod: %s\" % mode[0], \"Koliko puta se ta vrijednost pojavila: %s\" % mode[1])"
   ]
  },
  {
   "cell_type": "markdown",
   "metadata": {},
   "source": [
    "## 'refPositionX' iz akcije.csv"
   ]
  },
  {
   "cell_type": "markdown",
   "metadata": {},
   "source": [
    "Srednja vrijednost i medijan jako različiti. To nije dobro, zato nam i jesu čudne vrijednosti za te atribute, za poziciju suca u svakoj ackiji. App ipak dobro bilježi poziciju suca jer ona je zabilježena svaki put kad sudac na nekaj reagira. Ovo dolje neka ostane, još možda posluži."
   ]
  },
  {
   "cell_type": "code",
   "execution_count": 15,
   "metadata": {
    "collapsed": false
   },
   "outputs": [
    {
     "name": "stdout",
     "output_type": "stream",
     "text": [
      "Srednja vrijednost: 11.3601399099\n",
      "Medijan: 0.0\n",
      "Standardna devijacija: 90.3033389373\n",
      "Mod: [0] Koliko puta se ta vrijednost pojavila: [69135]\n"
     ]
    }
   ],
   "source": [
    "import pandas as pd\n",
    "import numpy as np\n",
    "from scipy import stats\n",
    "import os\n",
    "\n",
    "fileDir = os.path.dirname(os.path.realpath('mozgalo_gladbach_eintracht_akcije.csv'))\n",
    "filename = os.path.join(fileDir, '../data/clean/mozgalo_gladbach_eintracht_akcije.csv')\n",
    "file = os.path.abspath(os.path.realpath(filename))\n",
    "dataframe = pd.read_csv(file)\n",
    "refPositionX = dataframe[\"refPositionX\"]\n",
    "x = np.array(refPositionX)\n",
    "\n",
    "mean = np.mean(x)\n",
    "median = np.median(x)\n",
    "std_dev = np.std(x)\n",
    "mode = stats.mode(x)\n",
    "\n",
    "print(\"Srednja vrijednost: %s\" % mean)\n",
    "print(\"Medijan: %s\" % median)\n",
    "print(\"Standardna devijacija: %s\" % std_dev)\n",
    "print(\"Mod: %s\" % mode[0], \"Koliko puta se ta vrijednost pojavila: %s\" % mode[1])"
   ]
  },
  {
   "cell_type": "markdown",
   "metadata": {},
   "source": [
    "## 'refPositionY' iz akcije.csv"
   ]
  },
  {
   "cell_type": "code",
   "execution_count": 2,
   "metadata": {
    "collapsed": false
   },
   "outputs": [
    {
     "name": "stdout",
     "output_type": "stream",
     "text": [
      "Srednja vrijednost: 7.0427794287\n",
      "Medijan: 0.0\n",
      "Standardna devijacija: 55.6542644678\n",
      "Mod: [ 0.] Koliko puta se ta vrijednost pojavila: [69135]\n"
     ]
    }
   ],
   "source": [
    "import pandas as pd\n",
    "import numpy as np\n",
    "from scipy import stats\n",
    "import os\n",
    "\n",
    "fileDir = os.path.dirname(os.path.realpath('mozgalo_gladbach_eintracht_akcije.csv'))\n",
    "filename = os.path.join(fileDir, '../data/clean/mozgalo_gladbach_eintracht_akcije.csv')\n",
    "file = os.path.abspath(os.path.realpath(filename))\n",
    "dataframe = pd.read_csv(file)\n",
    "refPositionY = dataframe[\"refPositionY\"]\n",
    "y = np.array(refPositionY)\n",
    "\n",
    "mean = np.mean(y)\n",
    "median = np.median(y)\n",
    "std_dev = np.std(y)\n",
    "mode = stats.mode(y)\n",
    "\n",
    "print(\"Srednja vrijednost: %s\" % mean)\n",
    "print(\"Medijan: %s\" % median)\n",
    "print(\"Standardna devijacija: %s\" % std_dev)\n",
    "print(\"Mod: %s\" % mode[0], \"Koliko puta se ta vrijednost pojavila: %s\" % mode[1])"
   ]
  },
  {
   "cell_type": "markdown",
   "metadata": {},
   "source": [
    "## 'startPossTime' iz akcije.csv"
   ]
  },
  {
   "cell_type": "markdown",
   "metadata": {},
   "source": [
    "Najviše se pojavljuje 0 kao vrijeme početka posjeda lopte. Ali pod action ID su najčešće za takve redove vrijednosti 212 što je\n",
    "zamjena igrača u tekmi."
   ]
  },
  {
   "cell_type": "code",
   "execution_count": 6,
   "metadata": {
    "collapsed": false
   },
   "outputs": [
    {
     "name": "stdout",
     "output_type": "stream",
     "text": [
      "Srednja vrijednost: 2690.01011019\n",
      "Medijan: 2701.58\n",
      "Standardna devijacija: 1606.77228303\n",
      "Mod: [ 0.] Koliko puta se ta vrijednost pojavila: [182]\n"
     ]
    }
   ],
   "source": [
    "import pandas as pd\n",
    "import numpy as np\n",
    "from scipy import stats\n",
    "import os\n",
    "\n",
    "fileDir = os.path.dirname(os.path.realpath('mozgalo_gladbach_eintracht_akcije.csv'))\n",
    "filename = os.path.join(fileDir, '../data/clean/mozgalo_gladbach_eintracht_akcije.csv')\n",
    "file = os.path.abspath(os.path.realpath(filename))\n",
    "dataframe = pd.read_csv(file)\n",
    "startPossTime = dataframe[\"startPossTime\"]\n",
    "startarray = np.array(startPossTime)\n",
    "\n",
    "mean = np.mean(startarray)\n",
    "median = np.median(startarray)\n",
    "std_dev = np.std(startarray)\n",
    "mode = stats.mode(startarray)\n",
    "\n",
    "print(\"Srednja vrijednost: %s\" % mean)\n",
    "print(\"Medijan: %s\" % median)\n",
    "print(\"Standardna devijacija: %s\" % std_dev)\n",
    "print(\"Mod: %s\" % mode[0], \"Koliko puta se ta vrijednost pojavila: %s\" % mode[1])"
   ]
  },
  {
   "cell_type": "markdown",
   "metadata": {},
   "source": [
    "## 'endPossTime' iz akcije.csv"
   ]
  },
  {
   "cell_type": "markdown",
   "metadata": {},
   "source": [
    "Vidimo da ima više redova gdje je startPossTime 0 od redove gdje je endPossTime 0. Znači da postoje redovi gdje je startPossTime 0, a endPossTime neki broj."
   ]
  },
  {
   "cell_type": "code",
   "execution_count": 7,
   "metadata": {
    "collapsed": false
   },
   "outputs": [
    {
     "name": "stdout",
     "output_type": "stream",
     "text": [
      "Srednja vrijednost: 2691.16080477\n",
      "Medijan: 2702.87\n",
      "Standardna devijacija: 1606.76806559\n",
      "Mod: [ 0.] Koliko puta se ta vrijednost pojavila: [173]\n"
     ]
    }
   ],
   "source": [
    "import pandas as pd\n",
    "import numpy as np\n",
    "from scipy import stats\n",
    "import os\n",
    "\n",
    "fileDir = os.path.dirname(os.path.realpath('mozgalo_gladbach_eintracht_akcije.csv'))\n",
    "filename = os.path.join(fileDir, '../data/clean/mozgalo_gladbach_eintracht_akcije.csv')\n",
    "file = os.path.abspath(os.path.realpath(filename))\n",
    "dataframe = pd.read_csv(file)\n",
    "endPossTime = dataframe[\"endPossTime\"]\n",
    "endarray = np.array(endPossTime)\n",
    "\n",
    "mean = np.mean(endarray)\n",
    "median = np.median(endarray)\n",
    "std_dev = np.std(endarray)\n",
    "mode = stats.mode(endarray)\n",
    "\n",
    "print(\"Srednja vrijednost: %s\" % mean)\n",
    "print(\"Medijan: %s\" % median)\n",
    "print(\"Standardna devijacija: %s\" % std_dev)\n",
    "print(\"Mod: %s\" % mode[0], \"Koliko puta se ta vrijednost pojavila: %s\" % mode[1])"
   ]
  },
  {
   "cell_type": "markdown",
   "metadata": {},
   "source": [
    "Provjera koji su to redovi gdje je startPossTime 0, a endPossTime neki broj. Ali to je ok, to su sve nove tekme na samom početku."
   ]
  },
  {
   "cell_type": "code",
   "execution_count": 20,
   "metadata": {
    "collapsed": false
   },
   "outputs": [
    {
     "name": "stdout",
     "output_type": "stream",
     "text": [
      "6256994 6258\n",
      "6257304 6261\n",
      "6370235 6364\n",
      "6429196 6403\n",
      "6466467 6425\n",
      "6493833 6450\n",
      "6599049 6553\n",
      "6668837 6609\n",
      "6761623 6681\n",
      "6764773 6685\n",
      "6823515 6730\n"
     ]
    }
   ],
   "source": [
    "fileDir = os.path.dirname(os.path.realpath('mozgalo_gladbach_eintracht_akcije.csv'))\n",
    "filename = os.path.join(fileDir, '../data/clean/mozgalo_gladbach_eintracht_akcije.csv')\n",
    "file = os.path.abspath(os.path.realpath(filename))\n",
    "\n",
    "fileakcije = open(file, \"r\")\n",
    "\n",
    "for line in fileakcije:\n",
    "    fields = line.split(\",\")\n",
    "    if((fields[19] == '0') and (fields[20] != '0')):\n",
    "        print(fields[0], fields[1])\n"
   ]
  },
  {
   "cell_type": "markdown",
   "metadata": {},
   "source": [
    "Ovi redovi imaju actionStartTime i actioEndTime negativne brojeve. To ne znamo kaj znači."
   ]
  },
  {
   "cell_type": "code",
   "execution_count": 21,
   "metadata": {
    "collapsed": false
   },
   "outputs": [
    {
     "name": "stdout",
     "output_type": "stream",
     "text": [
      "6304183 6307\n",
      "6378089 6370\n",
      "6378091 6370\n",
      "6401462 6385\n",
      "6422029 6398\n",
      "6453493 6418\n",
      "6578946 6545\n",
      "6578953 6545\n",
      "6622942 6568\n",
      "6666241 6603\n",
      "6719439 6647\n",
      "6855710 6755\n",
      "6881295 6770\n"
     ]
    }
   ],
   "source": [
    "fileDir = os.path.dirname(os.path.realpath('mozgalo_gladbach_eintracht_akcije.csv'))\n",
    "filename = os.path.join(fileDir, '../data/clean/mozgalo_gladbach_eintracht_akcije.csv')\n",
    "file = os.path.abspath(os.path.realpath(filename))\n",
    "\n",
    "fileakcije = open(file, \"r\")\n",
    "next(fileakcije)\n",
    "for line in fileakcije:\n",
    "    fields = line.split(\",\")\n",
    "    if((float(fields[2]) < 0) and (float(fields[3]) < 0)):\n",
    "        print(fields[0], fields[1])"
   ]
  },
  {
   "cell_type": "markdown",
   "metadata": {
    "collapsed": true
   },
   "source": [
    "Provjera da li ima ima akcija pod IDem 22 (prekid igre), a da nije zabilježena pozicija suca. Ako ne postoje akcije tipa 22 i da nije zabilježena pozicija suca, onda smo potvrdili ovo gore napisano.\n",
    "\n",
    "Postoje 34 akcije u kojima je prekinuta igra, od suca valjda, ali pozicija suca nije zabilježena. Ali to je valjda zbog opcije akcije, npr akcija id 359 - UKAZIVANJE POMOĆI, to valjda znači da je zabilježena pozicija suca samo onda kad je prekid igre (actionID 22), a prekid je zbog prekršaja na drugome igraču."
   ]
  },
  {
   "cell_type": "code",
   "execution_count": 5,
   "metadata": {
    "collapsed": false
   },
   "outputs": [
    {
     "name": "stdout",
     "output_type": "stream",
     "text": [
      "0\n",
      "34\n"
     ]
    }
   ],
   "source": [
    "fileDir = os.path.dirname(os.path.realpath('mozgalo_gladbach_eintracht_akcije.csv'))\n",
    "filename = os.path.join(fileDir, '../data/clean/mozgalo_gladbach_eintracht_akcije.csv')\n",
    "file = os.path.abspath(os.path.realpath(filename))\n",
    "\n",
    "lista = []\n",
    "lista2 = []\n",
    "fileakcije = open(file, \"r\")\n",
    "\n",
    "for line in fileakcije:\n",
    "    fields = line.split(\",\")\n",
    "    if((fields[4] == '22') and (fields[17] == '0') and (fields[18] == '0')):\n",
    "        lista.append(fields[0])\n",
    "    if((fields[4] == '21') and (fields[17] == '0') and (fields[18] == '0')):\n",
    "        lista2.append(fields[0])\n",
    "        \n",
    "print(len(lista))#ne postoje akcije di je prekinuta igra i da nije zabilježena pozicija suca\n",
    "print(len(lista2))#prekid igre, ali sa drugacijom opcijom akcije, npr. ukazivanje pomoći\n",
    "    "
   ]
  },
  {
   "cell_type": "code",
   "execution_count": null,
   "metadata": {
    "collapsed": true
   },
   "outputs": [],
   "source": []
  }
 ],
 "metadata": {
  "kernelspec": {
   "display_name": "Python 3",
   "language": "python",
   "name": "python3"
  },
  "language_info": {
   "codemirror_mode": {
    "name": "ipython",
    "version": 3
   },
   "file_extension": ".py",
   "mimetype": "text/x-python",
   "name": "python",
   "nbconvert_exporter": "python",
   "pygments_lexer": "ipython3",
   "version": "3.5.1"
  }
 },
 "nbformat": 4,
 "nbformat_minor": 0
}
