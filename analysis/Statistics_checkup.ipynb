{
 "cells": [
  {
   "cell_type": "markdown",
   "metadata": {},
   "source": [
    "## Atribut 'temperature' iz utakmice.csv"
   ]
  },
  {
   "cell_type": "markdown",
   "metadata": {},
   "source": [
    "Srednja vrijednost i medijan su jako blizu i to znači da za atribut temperature ne postoje vrijednosti koje jako odstupaju i koje bi narušavale taj odnos, ne postoje outliers. To znači da je senzor dobro mjeril i da je app dobro zapisala temperaturu.\n",
    "Mod je najčešća vrijednost koja se pojavljuje, znači 4 stupnja i to 8 puta.\n",
    "Standardna devijacija je odstupanje od srednje vrijednosti i unutar tog intervala, između srednje vrijednosti i standardne devijacije (u plus i u minus od srednje vrijednosti za vrijednost standardne devijacije) se nalazi najviše vrijednosti. Znači najviše vrijednosti se nalazi između 3.xx i 9.xx stupnja celzijusa.\n",
    "\n",
    "Sve isto vrijedi za svaki atribut."
   ]
  },
  {
   "cell_type": "code",
   "execution_count": 2,
   "metadata": {
    "collapsed": false
   },
   "outputs": [
    {
     "name": "stdout",
     "output_type": "stream",
     "text": [
      "Srednja vrijednost: 6.83333333333\n",
      "Medijan: 7.0\n",
      "Standardna devijacija: 2.91070819943\n",
      "Mod: [4] Koliko puta se ta vrijednost pojavila: [8]\n"
     ]
    }
   ],
   "source": [
    "import pandas as pd\n",
    "import numpy as np\n",
    "from scipy import stats\n",
    "import os\n",
    "\n",
    "fileDir = os.path.dirname(os.path.realpath('mozgalo_gladbach_eintracht_utakmice.csv'))\n",
    "filename = os.path.join(fileDir, '../data/clean/mozgalo_gladbach_eintracht_utakmice.csv')\n",
    "file = os.path.abspath(os.path.realpath(filename))\n",
    "dataframe = pd.read_csv(file)\n",
    "temp = dataframe[\"temperature\"]\n",
    "temparray = np.array(temp)\n",
    "\n",
    "mean = np.mean(temparray)\n",
    "median = np.median(temparray)\n",
    "std_dev = np.std(temparray)\n",
    "mode = stats.mode(temparray)\n",
    "\n",
    "print(\"Srednja vrijednost: %s\" % mean)\n",
    "print(\"Medijan: %s\" % median)\n",
    "print(\"Standardna devijacija: %s\" % std_dev)\n",
    "print(\"Mod: %s\" % mode[0], \"Koliko puta se ta vrijednost pojavila: %s\" % mode[1])"
   ]
  },
  {
   "cell_type": "markdown",
   "metadata": {},
   "source": [
    "## 'viewers' iz utakmice.csv'"
   ]
  },
  {
   "cell_type": "code",
   "execution_count": 8,
   "metadata": {
    "collapsed": false
   },
   "outputs": [
    {
     "name": "stdout",
     "output_type": "stream",
     "text": [
      "Srednja vrijednost: 44011.3666667\n",
      "Medijan: 44402.0\n",
      "Standardna devijacija: 11371.4306297\n",
      "Mod: [30150] Koliko puta se ta vrijednost pojavila: [2]\n"
     ]
    }
   ],
   "source": [
    "import pandas as pd\n",
    "import numpy as np\n",
    "from scipy import stats\n",
    "import os\n",
    "\n",
    "fileDir = os.path.dirname(os.path.realpath('mozgalo_gladbach_eintracht_utakmice.csv'))\n",
    "filename = os.path.join(fileDir, '../data/clean/mozgalo_gladbach_eintracht_utakmice.csv')\n",
    "file = os.path.abspath(os.path.realpath(filename))\n",
    "dataframe = pd.read_csv(file)\n",
    "v = dataframe[\"viewers\"]\n",
    "varray = np.array(v)\n",
    "\n",
    "mean = np.mean(varray)\n",
    "median = np.median(varray)\n",
    "std_dev = np.std(varray)\n",
    "mode = stats.mode(varray)\n",
    "\n",
    "print(\"Srednja vrijednost: %s\" % mean)\n",
    "print(\"Medijan: %s\" % median)\n",
    "print(\"Standardna devijacija: %s\" % std_dev)\n",
    "print(\"Mod: %s\" % mode[0], \"Koliko puta se ta vrijednost pojavila: %s\" % mode[1])"
   ]
  },
  {
   "cell_type": "markdown",
   "metadata": {},
   "source": [
    "## 'touchNumber' iz akcije.csv"
   ]
  },
  {
   "cell_type": "code",
   "execution_count": 1,
   "metadata": {
    "collapsed": false
   },
   "outputs": [
    {
     "name": "stdout",
     "output_type": "stream",
     "text": [
      "Srednja vrijednost: 1.93837710256\n",
      "Medijan: 1.0\n",
      "Standardna devijacija: 1.62255314555\n",
      "Mod: [1] Koliko puta se ta vrijednost pojavila: [38596]\n"
     ]
    }
   ],
   "source": [
    "import pandas as pd\n",
    "import numpy as np\n",
    "from scipy import stats\n",
    "import os\n",
    "\n",
    "fileDir = os.path.dirname(os.path.realpath('mozgalo_gladbach_eintracht_akcije.csv'))\n",
    "filename = os.path.join(fileDir, '../data/clean/mozgalo_gladbach_eintracht_akcije.csv')\n",
    "file = os.path.abspath(os.path.realpath(filename))\n",
    "dataframe = pd.read_csv(file)\n",
    "t = dataframe[\"touchNumber\"]\n",
    "tarray = np.array(t)\n",
    "\n",
    "mean = np.mean(tarray)\n",
    "median = np.median(tarray)\n",
    "std_dev = np.std(tarray)\n",
    "mode = stats.mode(tarray)\n",
    "\n",
    "print(\"Srednja vrijednost: %s\" % mean)\n",
    "print(\"Medijan: %s\" % median)\n",
    "print(\"Standardna devijacija: %s\" % std_dev)\n",
    "print(\"Mod: %s\" % mode[0], \"Koliko puta se ta vrijednost pojavila: %s\" % mode[1])"
   ]
  },
  {
   "cell_type": "markdown",
   "metadata": {},
   "source": [
    "## 'distance' iz akcije.csv"
   ]
  },
  {
   "cell_type": "code",
   "execution_count": 10,
   "metadata": {
    "collapsed": false
   },
   "outputs": [
    {
     "name": "stdout",
     "output_type": "stream",
     "text": [
      "Srednja vrijednost: 16.8273840838\n",
      "Medijan: 13.6\n",
      "Standardna devijacija: 13.2008294807\n",
      "Mod: [ 0.] Koliko puta se ta vrijednost pojavila: [1846]\n"
     ]
    }
   ],
   "source": [
    "import pandas as pd\n",
    "import numpy as np\n",
    "from scipy import stats\n",
    "import os\n",
    "\n",
    "fileDir = os.path.dirname(os.path.realpath('mozgalo_gladbach_eintracht_akcije.csv'))\n",
    "filename = os.path.join(fileDir, '../data/clean/mozgalo_gladbach_eintracht_akcije.csv')\n",
    "file = os.path.abspath(os.path.realpath(filename))\n",
    "dataframe = pd.read_csv(file)\n",
    "d = dataframe[\"distance\"]\n",
    "darray = np.array(d)\n",
    "\n",
    "mean = np.mean(darray)\n",
    "median = np.median(darray)\n",
    "std_dev = np.std(darray)\n",
    "mode = stats.mode(darray)\n",
    "\n",
    "print(\"Srednja vrijednost: %s\" % mean)\n",
    "print(\"Medijan: %s\" % median)\n",
    "print(\"Standardna devijacija: %s\" % std_dev)\n",
    "print(\"Mod: %s\" % mode[0], \"Koliko puta se ta vrijednost pojavila: %s\" % mode[1])"
   ]
  },
  {
   "cell_type": "markdown",
   "metadata": {},
   "source": [
    "## 'actionPosX1' iz akcije.csv"
   ]
  },
  {
   "cell_type": "code",
   "execution_count": 11,
   "metadata": {
    "collapsed": false
   },
   "outputs": [
    {
     "name": "stdout",
     "output_type": "stream",
     "text": [
      "Srednja vrijednost: 676.200423711\n",
      "Medijan: 670.0\n",
      "Standardna devijacija: 329.059984375\n",
      "Mod: [0] Koliko puta se ta vrijednost pojavila: [170]\n"
     ]
    }
   ],
   "source": [
    "import pandas as pd\n",
    "import numpy as np\n",
    "from scipy import stats\n",
    "import os\n",
    "\n",
    "fileDir = os.path.dirname(os.path.realpath('mozgalo_gladbach_eintracht_akcije.csv'))\n",
    "filename = os.path.join(fileDir, '../data/clean/mozgalo_gladbach_eintracht_akcije.csv')\n",
    "file = os.path.abspath(os.path.realpath(filename))\n",
    "dataframe = pd.read_csv(file)\n",
    "actionPosX1 = dataframe[\"actionPosX1\"]\n",
    "x1 = np.array(actionPosX1)\n",
    "\n",
    "mean = np.mean(x1)\n",
    "median = np.median(x1)\n",
    "std_dev = np.std(x1)\n",
    "mode = stats.mode(x1)\n",
    "\n",
    "print(\"Srednja vrijednost: %s\" % mean)\n",
    "print(\"Medijan: %s\" % median)\n",
    "print(\"Standardna devijacija: %s\" % std_dev)\n",
    "print(\"Mod: %s\" % mode[0], \"Koliko puta se ta vrijednost pojavila: %s\" % mode[1])"
   ]
  },
  {
   "cell_type": "markdown",
   "metadata": {},
   "source": [
    "## 'actionPosX2' iz akcije.csv"
   ]
  },
  {
   "cell_type": "code",
   "execution_count": 12,
   "metadata": {
    "collapsed": false
   },
   "outputs": [
    {
     "name": "stdout",
     "output_type": "stream",
     "text": [
      "Srednja vrijednost: 659.619285948\n",
      "Medijan: 652.0\n",
      "Standardna devijacija: 354.282131012\n",
      "Mod: [0] Koliko puta se ta vrijednost pojavila: [1828]\n"
     ]
    }
   ],
   "source": [
    "import pandas as pd\n",
    "import numpy as np\n",
    "from scipy import stats\n",
    "import os\n",
    "\n",
    "fileDir = os.path.dirname(os.path.realpath('mozgalo_gladbach_eintracht_akcije.csv'))\n",
    "filename = os.path.join(fileDir, '../data/clean/mozgalo_gladbach_eintracht_akcije.csv')\n",
    "file = os.path.abspath(os.path.realpath(filename))\n",
    "dataframe = pd.read_csv(file)\n",
    "actionPosX2 = dataframe[\"actionPosX2\"]\n",
    "x2 = np.array(actionPosX2)\n",
    "\n",
    "mean = np.mean(x2)\n",
    "median = np.median(x2)\n",
    "std_dev = np.std(x2)\n",
    "mode = stats.mode(x2)\n",
    "\n",
    "print(\"Srednja vrijednost: %s\" % mean)\n",
    "print(\"Medijan: %s\" % median)\n",
    "print(\"Standardna devijacija: %s\" % std_dev)\n",
    "print(\"Mod: %s\" % mode[0], \"Koliko puta se ta vrijednost pojavila: %s\" % mode[1])"
   ]
  },
  {
   "cell_type": "markdown",
   "metadata": {},
   "source": [
    "## 'actionPosY1' iz akcije.csv"
   ]
  },
  {
   "cell_type": "code",
   "execution_count": 13,
   "metadata": {
    "collapsed": false
   },
   "outputs": [
    {
     "name": "stdout",
     "output_type": "stream",
     "text": [
      "Srednja vrijednost: 420.191174873\n",
      "Medijan: 423.32\n",
      "Standardna devijacija: 218.089596116\n",
      "Mod: [ 0.] Koliko puta se ta vrijednost pojavila: [170]\n"
     ]
    }
   ],
   "source": [
    "import pandas as pd\n",
    "import numpy as np\n",
    "from scipy import stats\n",
    "import os\n",
    "\n",
    "fileDir = os.path.dirname(os.path.realpath('mozgalo_gladbach_eintracht_akcije.csv'))\n",
    "filename = os.path.join(fileDir, '../data/clean/mozgalo_gladbach_eintracht_akcije.csv')\n",
    "file = os.path.abspath(os.path.realpath(filename))\n",
    "dataframe = pd.read_csv(file)\n",
    "actionPosY1 = dataframe[\"actionPosY1\"]\n",
    "y1 = np.array(actionPosY1)\n",
    "\n",
    "mean = np.mean(y1)\n",
    "median = np.median(y1)\n",
    "std_dev = np.std(y1)\n",
    "mode = stats.mode(y1)\n",
    "\n",
    "print(\"Srednja vrijednost: %s\" % mean)\n",
    "print(\"Medijan: %s\" % median)\n",
    "print(\"Standardna devijacija: %s\" % std_dev)\n",
    "print(\"Mod: %s\" % mode[0], \"Koliko puta se ta vrijednost pojavila: %s\" % mode[1])"
   ]
  },
  {
   "cell_type": "markdown",
   "metadata": {},
   "source": [
    "## 'actionPosY2' iz akcije.csv"
   ]
  },
  {
   "cell_type": "code",
   "execution_count": 14,
   "metadata": {
    "collapsed": false
   },
   "outputs": [
    {
     "name": "stdout",
     "output_type": "stream",
     "text": [
      "Srednja vrijednost: 408.745375439\n",
      "Medijan: 414.32\n",
      "Standardna devijacija: 221.882770775\n",
      "Mod: [ 0.] Koliko puta se ta vrijednost pojavila: [1828]\n"
     ]
    }
   ],
   "source": [
    "import pandas as pd\n",
    "import numpy as np\n",
    "from scipy import stats\n",
    "import os\n",
    "\n",
    "fileDir = os.path.dirname(os.path.realpath('mozgalo_gladbach_eintracht_akcije.csv'))\n",
    "filename = os.path.join(fileDir, '../data/clean/mozgalo_gladbach_eintracht_akcije.csv')\n",
    "file = os.path.abspath(os.path.realpath(filename))\n",
    "dataframe = pd.read_csv(file)\n",
    "actionPosY2 = dataframe[\"actionPosY2\"]\n",
    "y2 = np.array(actionPosY2)\n",
    "\n",
    "mean = np.mean(y2)\n",
    "median = np.median(y2)\n",
    "std_dev = np.std(y2)\n",
    "mode = stats.mode(y2)\n",
    "\n",
    "print(\"Srednja vrijednost: %s\" % mean)\n",
    "print(\"Medijan: %s\" % median)\n",
    "print(\"Standardna devijacija: %s\" % std_dev)\n",
    "print(\"Mod: %s\" % mode[0], \"Koliko puta se ta vrijednost pojavila: %s\" % mode[1])"
   ]
  },
  {
   "cell_type": "markdown",
   "metadata": {},
   "source": [
    "## 'refPositionX' iz akcije.csv"
   ]
  },
  {
   "cell_type": "markdown",
   "metadata": {},
   "source": [
    "Srednja vrijednost i medijan jako različiti. To nije dobro, zato nam i jesu čudne vrijednosti za te atribute, za poziciju suca u svakoj ackiji. App ne bilježi dobro pozicije suca za svaku akciju. Najčešća vrijednost je 0, prema tome u jako puno akcija sudac kao da stoji gore lijevo na ekranu snimke, u ishodištu koordinatnog sustava. lol xD"
   ]
  },
  {
   "cell_type": "code",
   "execution_count": 15,
   "metadata": {
    "collapsed": false
   },
   "outputs": [
    {
     "name": "stdout",
     "output_type": "stream",
     "text": [
      "Srednja vrijednost: 11.3601399099\n",
      "Medijan: 0.0\n",
      "Standardna devijacija: 90.3033389373\n",
      "Mod: [0] Koliko puta se ta vrijednost pojavila: [69135]\n"
     ]
    }
   ],
   "source": [
    "import pandas as pd\n",
    "import numpy as np\n",
    "from scipy import stats\n",
    "import os\n",
    "\n",
    "fileDir = os.path.dirname(os.path.realpath('mozgalo_gladbach_eintracht_akcije.csv'))\n",
    "filename = os.path.join(fileDir, '../data/clean/mozgalo_gladbach_eintracht_akcije.csv')\n",
    "file = os.path.abspath(os.path.realpath(filename))\n",
    "dataframe = pd.read_csv(file)\n",
    "refPositionX = dataframe[\"refPositionX\"]\n",
    "x = np.array(refPositionX)\n",
    "\n",
    "mean = np.mean(x)\n",
    "median = np.median(x)\n",
    "std_dev = np.std(x)\n",
    "mode = stats.mode(x)\n",
    "\n",
    "print(\"Srednja vrijednost: %s\" % mean)\n",
    "print(\"Medijan: %s\" % median)\n",
    "print(\"Standardna devijacija: %s\" % std_dev)\n",
    "print(\"Mod: %s\" % mode[0], \"Koliko puta se ta vrijednost pojavila: %s\" % mode[1])"
   ]
  },
  {
   "cell_type": "markdown",
   "metadata": {},
   "source": [
    "## 'refPositionY' iz akcije.csv"
   ]
  },
  {
   "cell_type": "code",
   "execution_count": 16,
   "metadata": {
    "collapsed": false
   },
   "outputs": [
    {
     "name": "stdout",
     "output_type": "stream",
     "text": [
      "Srednja vrijednost: 7.0427794287\n",
      "Medijan: 0.0\n",
      "Standardna devijacija: 55.6542644678\n",
      "Mod: [ 0.] Koliko puta se ta vrijednost pojavila: [69135]\n"
     ]
    }
   ],
   "source": [
    "import pandas as pd\n",
    "import numpy as np\n",
    "from scipy import stats\n",
    "import os\n",
    "\n",
    "fileDir = os.path.dirname(os.path.realpath('mozgalo_gladbach_eintracht_akcije.csv'))\n",
    "filename = os.path.join(fileDir, '../data/clean/mozgalo_gladbach_eintracht_akcije.csv')\n",
    "file = os.path.abspath(os.path.realpath(filename))\n",
    "dataframe = pd.read_csv(file)\n",
    "refPositionY = dataframe[\"refPositionY\"]\n",
    "y = np.array(refPositionY)\n",
    "\n",
    "mean = np.mean(y)\n",
    "median = np.median(y)\n",
    "std_dev = np.std(y)\n",
    "mode = stats.mode(y)\n",
    "\n",
    "print(\"Srednja vrijednost: %s\" % mean)\n",
    "print(\"Medijan: %s\" % median)\n",
    "print(\"Standardna devijacija: %s\" % std_dev)\n",
    "print(\"Mod: %s\" % mode[0], \"Koliko puta se ta vrijednost pojavila: %s\" % mode[1])"
   ]
  },
  {
   "cell_type": "code",
   "execution_count": null,
   "metadata": {
    "collapsed": true
   },
   "outputs": [],
   "source": []
  }
 ],
 "metadata": {
  "kernelspec": {
   "display_name": "Python 3",
   "language": "python",
   "name": "python3"
  },
  "language_info": {
   "codemirror_mode": {
    "name": "ipython",
    "version": 3
   },
   "file_extension": ".py",
   "mimetype": "text/x-python",
   "name": "python",
   "nbconvert_exporter": "python",
   "pygments_lexer": "ipython3",
   "version": "3.5.1"
  }
 },
 "nbformat": 4,
 "nbformat_minor": 0
}
