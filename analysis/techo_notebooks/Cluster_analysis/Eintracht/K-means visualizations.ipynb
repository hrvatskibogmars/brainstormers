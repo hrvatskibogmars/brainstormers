{
 "cells": [
  {
   "cell_type": "markdown",
   "metadata": {},
   "source": [
    "## Vizualizacija prema principal component za 3 klastera"
   ]
  },
  {
   "cell_type": "code",
   "execution_count": 9,
   "metadata": {
    "collapsed": false
   },
   "outputs": [],
   "source": [
    "import matplotlib   \n",
    "import matplotlib.pyplot as plt \n",
    "import sklearn.decomposition as de\n",
    "import pandas as pd\n",
    "\n",
    "frame1 = pd.read_csv(\"kmeans_results_3k.csv\", sep=',')\n",
    "\n",
    "num_cols = ['actionPosX1', 'actionPosX2', 'actionPosY1', 'actionPosY2', 'start_sector', 'end_sector'] \n",
    "pca = de.PCA(n_components = 2)\n",
    "pca.fit(frame1[num_cols].as_matrix())\n",
    "pca_frame = pd.DataFrame(pca.transform(frame1[num_cols].as_matrix()))\n",
    "pca_frame['Assignments'] = frame1.Assignments\n",
    "    \n",
    "temp0 = pca_frame.ix[pca_frame['Assignments'] == 0, :]    \n",
    "temp1 = pca_frame.ix[pca_frame['Assignments'] == 1, :]\n",
    "temp2 = pca_frame.ix[pca_frame['Assignments'] == 2, :]\n",
    "temp0.columns = ['PC1', 'PC2', 'Assignments']\n",
    "temp1.columns = ['PC1', 'PC2', 'Assignments']\n",
    "temp2.columns = ['PC1', 'PC2', 'Assignments']\n",
    "    \n",
    "fig = plt.figure(figsize = (12,6))\n",
    "fig.clf() \n",
    "ax = fig.gca()\n",
    "temp0.plot(kind = 'scatter', x = 'PC1', y = 'PC2', color='DarkBlue', label='Cluster 0', alpha = 0.3, ax = ax)\n",
    "temp1.plot(kind = 'scatter', x = 'PC1', y = 'PC2', color='Red', label='Cluster 1', alpha = 0.3, ax = ax)\n",
    "temp2.plot(kind = 'scatter', x = 'PC1', y = 'PC2', color='Green', label='Cluster 2', alpha = 0.3, ax = ax)\n",
    "ax.set_title('Klasteri prema analizi glavnih komponenti')\n",
    "ax.set_xlabel('Prva glavna komponenta')\n",
    "ax.set_ylabel('Druga glavna komponenta')\n",
    "\n",
    "\n",
    "plt.show()"
   ]
  },
  {
   "cell_type": "markdown",
   "metadata": {},
   "source": [
    "## Vizualizacija prema principal component za 2 klastera"
   ]
  },
  {
   "cell_type": "code",
   "execution_count": 1,
   "metadata": {
    "collapsed": false
   },
   "outputs": [],
   "source": [
    "import matplotlib   \n",
    "import matplotlib.pyplot as plt \n",
    "import sklearn.decomposition as de\n",
    "import pandas as pd\n",
    "\n",
    "\n",
    "frame2 = pd.read_csv(\"kmeans_results_2k.csv\", sep=',')\n",
    "\n",
    "num_cols = ['actionPosX1', 'actionPosX2', 'actionPosY1', 'actionPosY2', 'start_sector', 'end_sector'] \n",
    "pca = de.PCA(n_components = 2)\n",
    "pca.fit(frame2[num_cols].as_matrix())\n",
    "pca_frame = pd.DataFrame(pca.transform(frame2[num_cols].as_matrix()))\n",
    "pca_frame['Assignments'] = frame2.Assignments\n",
    "    \n",
    "temp0 = pca_frame.ix[pca_frame['Assignments'] == 0, :]    \n",
    "temp1 = pca_frame.ix[pca_frame['Assignments'] == 1, :]\n",
    "temp0.columns = ['PC1', 'PC2', 'Assignments']\n",
    "temp1.columns = ['PC1', 'PC2', 'Assignments']\n",
    "    \n",
    "fig = plt.figure(figsize = (12,6))\n",
    "fig.clf() \n",
    "ax = fig.gca()\n",
    "temp0.plot(kind = 'scatter', x = 'PC1', y = 'PC2', color='DarkBlue', label='Cluster 0', alpha = 0.3, ax = ax)\n",
    "temp1.plot(kind = 'scatter', x = 'PC1', y = 'PC2', color='Red', label='Cluster 1', alpha = 0.3, ax = ax)\n",
    "ax.set_title('Klasteri prema analizi glavnih komponenti')\n",
    "ax.set_xlabel('Prva glavna komponenta')\n",
    "ax.set_ylabel('Druga glavna komponenta')\n",
    "\n",
    "plt.show()"
   ]
  },
  {
   "cell_type": "markdown",
   "metadata": {},
   "source": [
    "## Vizualizacija prema principal component za 4 klastera"
   ]
  },
  {
   "cell_type": "code",
   "execution_count": 3,
   "metadata": {
    "collapsed": false
   },
   "outputs": [],
   "source": [
    "import matplotlib   \n",
    "import matplotlib.pyplot as plt \n",
    "import sklearn.decomposition as de\n",
    "import pandas as pd\n",
    "\n",
    "\n",
    "frame3 = pd.read_csv(\"kmeans_results_4k.csv\", sep=',')\n",
    "\n",
    "num_cols = ['actionPosX1', 'actionPosX2', 'actionPosY1', 'actionPosY2', 'start_sector', 'end_sector'] \n",
    "pca = de.PCA(n_components = 2)\n",
    "pca.fit(frame3[num_cols].as_matrix())\n",
    "pca_frame = pd.DataFrame(pca.transform(frame3[num_cols].as_matrix()))\n",
    "pca_frame['Assignments'] = frame3.Assignments\n",
    "    \n",
    "temp0 = pca_frame.ix[pca_frame['Assignments'] == 0, :]    \n",
    "temp1 = pca_frame.ix[pca_frame['Assignments'] == 1, :]\n",
    "temp2 = pca_frame.ix[pca_frame['Assignments'] == 2, :]\n",
    "temp3 = pca_frame.ix[pca_frame['Assignments'] == 3, :]\n",
    "temp0.columns = ['PC1', 'PC2', 'Assignments']\n",
    "temp1.columns = ['PC1', 'PC2', 'Assignments']\n",
    "temp2.columns = ['PC1', 'PC2', 'Assignments']\n",
    "temp3.columns = ['PC1', 'PC2', 'Assignments']\n",
    "    \n",
    "fig = plt.figure(figsize = (12,6))\n",
    "fig.clf() \n",
    "ax = fig.gca()\n",
    "temp0.plot(kind = 'scatter', x = 'PC1', y = 'PC2', color='DarkBlue', label='Cluster 0', alpha = 0.3, ax = ax)\n",
    "temp1.plot(kind = 'scatter', x = 'PC1', y = 'PC2', color='Red', label='Cluster 1', alpha = 0.3, ax = ax)\n",
    "temp2.plot(kind = 'scatter', x = 'PC1', y = 'PC2', color='Green', label='Cluster 2', alpha = 0.3, ax = ax)\n",
    "temp3.plot(kind = 'scatter', x = 'PC1', y = 'PC2', color='Yellow', label='Cluster 3', alpha = 0.3, ax = ax)\n",
    "ax.set_title('Klasteri prema analizi glavnih komponenti')\n",
    "ax.set_xlabel('Prva glavna komponenta')\n",
    "ax.set_ylabel('Druga glavna komponenta')\n",
    "\n",
    "plt.show()"
   ]
  },
  {
   "cell_type": "markdown",
   "metadata": {},
   "source": [
    "## Vizualizacija koordinata početka i kraja akcije prema start_sectoru i end_sectoru"
   ]
  },
  {
   "cell_type": "code",
   "execution_count": 1,
   "metadata": {
    "collapsed": false
   },
   "outputs": [],
   "source": [
    "import matplotlib   \n",
    "import matplotlib.pyplot as plt \n",
    "import sklearn.decomposition as de\n",
    "import pandas as pd\n",
    "\n",
    "dfClustered = pd.read_csv(\"kmeans_results_3k.csv\", sep=',')\n",
    "\n",
    "cluster0 = dfClustered[dfClustered['Assignments'] == 0]\n",
    "cluster1 = dfClustered[dfClustered['Assignments'] == 1]\n",
    "cluster2 = dfClustered[dfClustered['Assignments'] == 2]\n",
    "\n",
    "numeric_cols = ['actionPosX1', 'actionPosY1']    \n",
    "fig = plt.figure(figsize = (12, 24))\n",
    "fig.clf()\n",
    "i = 1\n",
    "for col in numeric_cols:\n",
    "    ax = fig.add_subplot(2, 1, i)\n",
    "    title = 'Scatter graf za ' + col + ' vs. start_sector'\n",
    "    cluster0.plot(kind = 'scatter', x = col, y = 'start_sector', color='DarkBlue', label='Cluster 0', alpha = 0.3, ax = ax)\n",
    "    cluster1.plot(kind = 'scatter', x = col, y = 'start_sector', color='Red', label='Cluster 1', alpha = 0.3, ax = ax)\n",
    "    cluster2.plot(kind = 'scatter', x = col, y = 'start_sector', color='Green', label='Cluster 2', alpha = 0.3, ax = ax)\n",
    "    ax.set_title(title)\n",
    "    ax.set_xlabel('')\n",
    "    i += 1\n",
    "    \n",
    "numeric_cols = ['actionPosX2', 'actionPosY2']    \n",
    "fig = plt.figure(figsize = (12, 24))\n",
    "fig.clf()\n",
    "i = 1\n",
    "for col in numeric_cols:\n",
    "    ax = fig.add_subplot(2, 1, i)\n",
    "    title = 'Scatter graf za ' + col + ' vs. end_sector'\n",
    "    cluster0.plot(kind = 'scatter', x = col, y = 'end_sector', color='DarkBlue', label='Cluster 0', alpha = 0.3, ax = ax)\n",
    "    cluster1.plot(kind = 'scatter', x = col, y = 'end_sector', color='Red', label='Cluster 1', alpha = 0.3, ax = ax)\n",
    "    cluster2.plot(kind = 'scatter', x = col, y = 'end_sector', color='Green', label='Cluster 2', alpha = 0.3, ax = ax)\n",
    "    ax.set_title(title)\n",
    "    ax.set_xlabel('')\n",
    "    i += 1\n",
    "\n",
    "plt.show()\n"
   ]
  },
  {
   "cell_type": "markdown",
   "metadata": {},
   "source": [
    "## Vizualizacija koordinata početka i kraja akcije prema start_sectoru i end_sectoru denormalizirani start i end sector"
   ]
  },
  {
   "cell_type": "code",
   "execution_count": null,
   "metadata": {
    "collapsed": true
   },
   "outputs": [],
   "source": [
    "import matplotlib   \n",
    "import matplotlib.pyplot as plt \n",
    "import sklearn.decomposition as de\n",
    "import pandas as pd\n",
    "\n",
    "dfClustered = pd.read_csv(\"Spojeno_sve_sa_klasterima.csv\", sep=',')\n",
    "\n",
    "cluster0 = dfClustered[dfClustered['Assignments'] == 0]\n",
    "cluster1 = dfClustered[dfClustered['Assignments'] == 1]\n",
    "cluster2 = dfClustered[dfClustered['Assignments'] == 2]\n",
    "\n",
    "numeric_cols = ['actionPosX1', 'actionPosY1']    \n",
    "fig = plt.figure(figsize = (12, 24))\n",
    "fig.clf()\n",
    "i = 1\n",
    "for col in numeric_cols:\n",
    "    ax = fig.add_subplot(2, 1, i)\n",
    "    title = 'Scatter graf za ' + col + ' vs. start_sector'\n",
    "    cluster0.plot(kind = 'scatter', x = col, y = 'start_sector', color='DarkBlue', label='Cluster 0', alpha = 0.3, ax = ax)\n",
    "    cluster1.plot(kind = 'scatter', x = col, y = 'start_sector', color='Red', label='Cluster 1', alpha = 0.3, ax = ax)\n",
    "    cluster2.plot(kind = 'scatter', x = col, y = 'start_sector', color='Green', label='Cluster 2', alpha = 0.3, ax = ax)\n",
    "    ax.set_title(title)\n",
    "    ax.set_xlabel('')\n",
    "    i += 1\n",
    "    \n",
    "numeric_cols = ['actionPosX2', 'actionPosY2']    \n",
    "fig = plt.figure(figsize = (12, 24))\n",
    "fig.clf()\n",
    "i = 1\n",
    "for col in numeric_cols:\n",
    "    ax = fig.add_subplot(2, 1, i)\n",
    "    title = 'Scatter graf za ' + col + ' vs. end_sector'\n",
    "    cluster0.plot(kind = 'scatter', x = col, y = 'end_sector', color='DarkBlue', label='Cluster 0', alpha = 0.3, ax = ax)\n",
    "    cluster1.plot(kind = 'scatter', x = col, y = 'end_sector', color='Red', label='Cluster 1', alpha = 0.3, ax = ax)\n",
    "    cluster2.plot(kind = 'scatter', x = col, y = 'end_sector', color='Green', label='Cluster 2', alpha = 0.3, ax = ax)\n",
    "    ax.set_title(title)\n",
    "    ax.set_xlabel('')\n",
    "    i += 1\n",
    "\n",
    "plt.show()"
   ]
  }
 ],
 "metadata": {
  "kernelspec": {
   "display_name": "Python 3",
   "language": "python",
   "name": "python3"
  },
  "language_info": {
   "codemirror_mode": {
    "name": "ipython",
    "version": 3
   },
   "file_extension": ".py",
   "mimetype": "text/x-python",
   "name": "python",
   "nbconvert_exporter": "python",
   "pygments_lexer": "ipython3",
   "version": "3.5.1"
  }
 },
 "nbformat": 4,
 "nbformat_minor": 0
}
