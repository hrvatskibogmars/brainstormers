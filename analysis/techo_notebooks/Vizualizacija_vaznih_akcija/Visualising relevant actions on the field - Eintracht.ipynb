{
 "cells": [
  {
   "cell_type": "markdown",
   "metadata": {},
   "source": [
    "# Vizualizacija relevantnih akcija Eintrachta na terenu. Te akcije smo odabrali kao akcije koje su bitne za kvalitetu igre bilo kojeg kluba općenito."
   ]
  },
  {
   "cell_type": "markdown",
   "metadata": {},
   "source": [
    "Učitajmo prvo podatke u pandas dataframe."
   ]
  },
  {
   "cell_type": "code",
   "execution_count": 81,
   "metadata": {
    "collapsed": true
   },
   "outputs": [],
   "source": [
    "import numpy as np\n",
    "import pandas as pd\n",
    "import matplotlib.pyplot as plt\n",
    "import warnings\n",
    "warnings.filterwarnings('ignore')\n",
    "\n",
    "dfKontre = pd.read_csv(\"Eintracht_sna_kontra_napadi.csv\", sep=',')\n",
    "dfUdarciIO = pd.read_csv(\"Eintracht_sna_udarci_izvan_okvira.csv\", sep=',')\n",
    "dfPrimljeniGolovi = pd.read_csv(\"Eintracht_sna_primljeni_golovi.csv\", sep=',')\n",
    "dfDaniGolovi = pd.read_csv(\"Eintracht_sna_dani_golovi.csv\", sep=',')\n",
    "dfIOL = pd.read_csv(\"Eintracht_sna_iol.csv\", sep=',')\n",
    "dfINL = pd.read_csv(\"Eintracht_sna_inl.csv\", sep=',')\n",
    "dfIZL = pd.read_csv(\"Eintracht_sna_izl.csv\", sep=',')\n",
    "dfAsistencijePG = pd.read_csv(\"Eintracht_sna_asistencije_prije_gola.csv\", sep=',')"
   ]
  },
  {
   "cell_type": "markdown",
   "metadata": {},
   "source": [
    "Vizualizacija kontra napada"
   ]
  },
  {
   "cell_type": "code",
   "execution_count": 73,
   "metadata": {
    "collapsed": false
   },
   "outputs": [],
   "source": [
    "dfx1 = dfKontre['actionPosX1']\n",
    "dfy1 = dfKontre['actionPosY1']\n",
    "dfx2 = dfKontre['actionPosX2']\n",
    "dfy2 = dfKontre['actionPosY2']\n",
    "\n",
    "fig = plt.figure(figsize = (12, 24))\n",
    "fig.clf()\n",
    "ax1 = fig.add_subplot(1,1,1)\n",
    "ax2 = fig.add_subplot(1,1,1)\n",
    "plt.plot([dfx1, dfx2], [dfy1, dfy2], c='black')\n",
    "plt.yticks([0,225,450,675,900])\n",
    "plt.xticks([0,350,700,1050,1400])\n",
    "im = plt.imread('igraliste2.png')\n",
    "ax1.scatter(dfx1, dfy1, s=60, zorder=1, c='b', label='Početak')\n",
    "ax2.scatter(dfx2, dfy2, s=60, zorder=1, c='y', label='Kraj')\n",
    "implot = plt.imshow(im, zorder=0, extent=[0, 1400, 900, 0])\n",
    "plt.xlabel('actionPosX')\n",
    "plt.ylabel('actionPosY')\n",
    "plt.title('Lokacije početka i kraja dodavanja na samom početku kontre - Eintracht')\n",
    "plt.legend()\n",
    "\n",
    "def label_point(x, y, val, ax):\n",
    "    a = pd.concat({'x': x, 'y': y, 'val': val}, axis=1)\n",
    "    for i, point in a.iterrows():\n",
    "        ax.text(point['x'], point['y'], str(point['val']))\n",
    "\n",
    "label_point(dfKontre.actionPosX1, dfKontre.actionPosY1, dfKontre.playerName, ax1)\n",
    "label_point(dfKontre.actionPosX2, dfKontre.actionPosY2, dfKontre.playerName, ax2)\n",
    "\n",
    "plt.show()"
   ]
  },
  {
   "cell_type": "markdown",
   "metadata": {},
   "source": [
    "Vizualizacija udaraca izvan okvira"
   ]
  },
  {
   "cell_type": "code",
   "execution_count": 74,
   "metadata": {
    "collapsed": false
   },
   "outputs": [],
   "source": [
    "dfx1 = dfUdarciIO['actionPosX1']\n",
    "dfy1 = dfUdarciIO['actionPosY1']\n",
    "\n",
    "fig = plt.figure(figsize = (12, 24))\n",
    "fig.clf()\n",
    "ax1 = fig.add_subplot(1,1,1)\n",
    "\n",
    "\n",
    "plt.yticks([0,225,450,675,900])\n",
    "plt.xticks([0,350,700,1050,1400])\n",
    "im = plt.imread('igraliste2.png')\n",
    "ax1.scatter(dfx1, dfy1, s=60, zorder=1, c='b', label='Početak')\n",
    "implot = plt.imshow(im, zorder=0, extent=[0, 1400, 900, 0])\n",
    "plt.xlabel('actionPosX')\n",
    "plt.ylabel('actionPosY')\n",
    "plt.title('Lokacije početka udaraca izvan okvira - Eintracht')\n",
    "plt.legend()\n",
    "\n",
    "\n",
    "plt.show()"
   ]
  },
  {
   "cell_type": "markdown",
   "metadata": {},
   "source": [
    "Vizualizacija mjesta sa kojih su primljeni golovi"
   ]
  },
  {
   "cell_type": "code",
   "execution_count": 75,
   "metadata": {
    "collapsed": true
   },
   "outputs": [],
   "source": [
    "dfx1 = dfPrimljeniGolovi['actionPosX1']\n",
    "dfy1 = dfPrimljeniGolovi['actionPosY1']\n",
    "\n",
    "\n",
    "fig = plt.figure(figsize = (12, 24))\n",
    "fig.clf()\n",
    "ax1 = fig.add_subplot(1,1,1)\n",
    "\n",
    "plt.yticks([0,225,450,675,900])\n",
    "plt.xticks([0,350,700,1050,1400])\n",
    "im = plt.imread('igraliste2.png')\n",
    "ax1.scatter(dfx1, dfy1, s=60, zorder=1, c='b', label='Početak')\n",
    "implot = plt.imshow(im, zorder=0, extent=[0, 1400, 900, 0])\n",
    "plt.xlabel('actionPosX')\n",
    "plt.ylabel('actionPosY')\n",
    "plt.title('Lokacije mjesta sa kojih su primljeni golovi - Eintracht')\n",
    "plt.legend()\n",
    "\n",
    "\n",
    "plt.show()"
   ]
  },
  {
   "cell_type": "markdown",
   "metadata": {},
   "source": [
    "Vizualizacija mjesta sa kojih su dani golovi"
   ]
  },
  {
   "cell_type": "code",
   "execution_count": 76,
   "metadata": {
    "collapsed": false
   },
   "outputs": [],
   "source": [
    "dfx1 = dfDaniGolovi['actionPosX1']\n",
    "dfy1 = dfDaniGolovi['actionPosY1']\n",
    "\n",
    "fig = plt.figure(figsize = (12, 24))\n",
    "fig.clf()\n",
    "ax1 = fig.add_subplot(1,1,1)\n",
    "\n",
    "\n",
    "plt.yticks([0,225,450,675,900])\n",
    "plt.xticks([0,350,700,1050,1400])\n",
    "im = plt.imread('igraliste2.png')\n",
    "ax1.scatter(dfx1, dfy1, s=60, zorder=1, c='b', label='Početak')\n",
    "\n",
    "implot = plt.imshow(im, zorder=0, extent=[0, 1400, 900, 0])\n",
    "plt.xlabel('actionPosX')\n",
    "plt.ylabel('actionPosY')\n",
    "plt.title('Lokacije mjesta sa kojih su dani golovi - Eintracht')\n",
    "plt.legend()\n",
    "\n",
    "def label_point(x, y, val, ax):\n",
    "    a = pd.concat({'x': x, 'y': y, 'val': val}, axis=1)\n",
    "    for i, point in a.iterrows():\n",
    "        ax.text(point['x'], point['y'], str(point['val']))\n",
    "\n",
    "label_point(dfDaniGolovi.actionPosX1, dfDaniGolovi.actionPosY1, dfDaniGolovi.name, ax1)\n",
    "\n",
    "plt.show()"
   ]
  },
  {
   "cell_type": "markdown",
   "metadata": {},
   "source": [
    "Vizualizacije mjesta gdje su naši igrači bili predriblani od protivnika i izgubili su duel 1 na 1 na liniju, odnosno paralelno sa out linijom u smjeru gol-out linije. "
   ]
  },
  {
   "cell_type": "code",
   "execution_count": 77,
   "metadata": {
    "collapsed": false
   },
   "outputs": [],
   "source": [
    "dfx1 = dfINL['actionPosX1']\n",
    "dfy1 = dfINL['actionPosY1']\n",
    "\n",
    "fig = plt.figure(figsize = (12, 24))\n",
    "fig.clf()\n",
    "ax1 = fig.add_subplot(1,1,1)\n",
    "\n",
    "plt.yticks([0,225,450,675,900])\n",
    "plt.xticks([0,350,700,1050,1400])\n",
    "im = plt.imread('igraliste2.png')\n",
    "ax1.scatter(dfx1, dfy1, s=60, zorder=1, c='b', label='Početak')\n",
    "implot = plt.imshow(im, zorder=0, extent=[0, 1400, 900, 0])\n",
    "plt.xlabel('actionPosX')\n",
    "plt.ylabel('actionPosY')\n",
    "plt.title('Lokacije početka duela 1 na 1 (izgubljen na liniju) - Eintracht')\n",
    "plt.legend()\n",
    "\n",
    "def label_point(x, y, val, ax):\n",
    "    a = pd.concat({'x': x, 'y': y, 'val': val}, axis=1)\n",
    "    for i, point in a.iterrows():\n",
    "        ax.text(point['x'], point['y'], str(point['val']))\n",
    "\n",
    "label_point(dfINL.actionPosX1, dfINL.actionPosY1, dfINL.name, ax1)\n",
    "\n",
    "plt.show()"
   ]
  },
  {
   "cell_type": "markdown",
   "metadata": {},
   "source": [
    "Vizualizacija izgubljenog duela 1 na 1 (izgubljen od linije)"
   ]
  },
  {
   "cell_type": "code",
   "execution_count": 78,
   "metadata": {
    "collapsed": false
   },
   "outputs": [],
   "source": [
    "dfx1 = dfIOL['actionPosX1']\n",
    "dfy1 = dfIOL['actionPosY1']\n",
    "dfx2 = dfIOL['actionPosX2']\n",
    "dfy2 = dfIOL['actionPosY2']\n",
    "\n",
    "fig = plt.figure(figsize = (12, 24))\n",
    "fig.clf()\n",
    "ax1 = fig.add_subplot(1,1,1)\n",
    "ax2 = fig.add_subplot(1,1,1)\n",
    "plt.plot([dfx1, dfx2], [dfy1, dfy2], c='black')\n",
    "plt.yticks([0,225,450,675,900])\n",
    "plt.xticks([0,350,700,1050,1400])\n",
    "im = plt.imread('igraliste2.png')\n",
    "ax1.scatter(dfx1, dfy1, s=60, zorder=1, c='b', label='Početak')\n",
    "ax2.scatter(dfx2, dfy2, s=60, zorder=1, c='y', label='Kraj')\n",
    "implot = plt.imshow(im, zorder=0, extent=[0, 1400, 900, 0])\n",
    "plt.xlabel('actionPosX')\n",
    "plt.ylabel('actionPosY')\n",
    "plt.title('Lokacije početka i kraja duela 1 na 1 (izgubljen od linije) - Eintracht')\n",
    "plt.legend()\n",
    "\n",
    "def label_point(x, y, val, ax):\n",
    "    a = pd.concat({'x': x, 'y': y, 'val': val}, axis=1)\n",
    "    for i, point in a.iterrows():\n",
    "        ax.text(point['x'], point['y'], str(point['val']))\n",
    "\n",
    "label_point(dfIOL.actionPosX2, dfIOL.actionPosY2, dfIOL.name, ax2)\n",
    "\n",
    "plt.show()"
   ]
  },
  {
   "cell_type": "markdown",
   "metadata": {},
   "source": [
    "Vizualizacija duela 1 na 1 (izgubljen u zadnjoj liniji)"
   ]
  },
  {
   "cell_type": "code",
   "execution_count": 79,
   "metadata": {
    "collapsed": true
   },
   "outputs": [],
   "source": [
    "dfx1 = dfIZL['actionPosX1']\n",
    "dfy1 = dfIZL['actionPosY1']\n",
    "dfx2 = dfIZL['actionPosX2']\n",
    "dfy2 = dfIZL['actionPosY2']\n",
    "\n",
    "fig = plt.figure(figsize = (12, 24))\n",
    "fig.clf()\n",
    "ax1 = fig.add_subplot(1,1,1)\n",
    "ax2 = fig.add_subplot(1,1,1)\n",
    "plt.plot([dfx1, dfx2], [dfy1, dfy2], c='black')\n",
    "plt.yticks([0,225,450,675,900])\n",
    "plt.xticks([0,350,700,1050,1400])\n",
    "im = plt.imread('igraliste2.png')\n",
    "ax1.scatter(dfx1, dfy1, s=60, zorder=1, c='b', label='Početak')\n",
    "ax2.scatter(dfx2, dfy2, s=60, zorder=1, c='y', label='Kraj')\n",
    "implot = plt.imshow(im, zorder=0, extent=[0, 1400, 900, 0])\n",
    "plt.xlabel('actionPosX')\n",
    "plt.ylabel('actionPosY')\n",
    "plt.title('Lokacije početka i kraja duela 1 na 1 (izgubljen u zadnjoj liniji) - Eintracht')\n",
    "plt.legend()\n",
    "\n",
    "def label_point(x, y, val, ax):\n",
    "    a = pd.concat({'x': x, 'y': y, 'val': val}, axis=1)\n",
    "    for i, point in a.iterrows():\n",
    "        ax.text(point['x'], point['y'], str(point['val']))\n",
    "\n",
    "label_point(dfIZL.actionPosX2, dfIZL.actionPosY2, dfIZL.name, ax2)\n",
    "\n",
    "plt.show()"
   ]
  },
  {
   "cell_type": "markdown",
   "metadata": {},
   "source": [
    "Vizualizacija asistencija prije gola"
   ]
  },
  {
   "cell_type": "code",
   "execution_count": 84,
   "metadata": {
    "collapsed": true
   },
   "outputs": [],
   "source": [
    "dfx1 = dfAsistencijePG['actionPosX1']\n",
    "dfy1 = dfAsistencijePG['actionPosY1']\n",
    "dfx2 = dfAsistencijePG['actionPosX2']\n",
    "dfy2 = dfAsistencijePG['actionPosY2']\n",
    "\n",
    "fig = plt.figure(figsize = (12, 24))\n",
    "fig.clf()\n",
    "ax1 = fig.add_subplot(1,1,1)\n",
    "ax2 = fig.add_subplot(1,1,1)\n",
    "plt.plot([dfx1, dfx2], [dfy1, dfy2], c='black')\n",
    "plt.yticks([0,225,450,675,900])\n",
    "plt.xticks([0,350,700,1050,1400])\n",
    "im = plt.imread('igraliste2.png')\n",
    "ax1.scatter(dfx1, dfy1, s=60, zorder=1, c='b', label='Početak')\n",
    "ax2.scatter(dfx2, dfy2, s=60, zorder=1, c='y', label='Kraj')\n",
    "implot = plt.imshow(im, zorder=0, extent=[0, 1400, 900, 0])\n",
    "plt.xlabel('actionPosX')\n",
    "plt.ylabel('actionPosY')\n",
    "plt.title('Lokacije početka i kraja asistencija prije gola - Eintracht')\n",
    "plt.legend(loc='lower left')\n",
    "\n",
    "def label_point(x, y, val, ax):\n",
    "    a = pd.concat({'x': x, 'y': y, 'val': val}, axis=1)\n",
    "    for i, point in a.iterrows():\n",
    "        ax.text(point['x'], point['y'], str(point['val']))\n",
    "\n",
    "label_point(dfAsistencijePG.actionPosX1, dfAsistencijePG.actionPosY1, dfAsistencijePG.playerName, ax1)\n",
    "label_point(dfAsistencijePG.actionPosX2, dfAsistencijePG.actionPosY2, dfAsistencijePG.targetName, ax2)\n",
    "\n",
    "plt.show()"
   ]
  }
 ],
 "metadata": {
  "kernelspec": {
   "display_name": "Python 3",
   "language": "python",
   "name": "python3"
  },
  "language_info": {
   "codemirror_mode": {
    "name": "ipython",
    "version": 3
   },
   "file_extension": ".py",
   "mimetype": "text/x-python",
   "name": "python",
   "nbconvert_exporter": "python",
   "pygments_lexer": "ipython3",
   "version": "3.5.1"
  }
 },
 "nbformat": 4,
 "nbformat_minor": 0
}
