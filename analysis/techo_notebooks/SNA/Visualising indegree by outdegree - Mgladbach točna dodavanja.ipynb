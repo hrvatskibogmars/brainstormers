{
 "cells": [
  {
   "cell_type": "markdown",
   "metadata": {},
   "source": [
    "### Vizualizacija ulaznih i izlaznih ponderiranih stupnjeva čvorova za točna dodavanja"
   ]
  },
  {
   "cell_type": "code",
   "execution_count": null,
   "metadata": {
    "collapsed": false
   },
   "outputs": [],
   "source": [
    "import pandas as pd\n",
    "import numpy as np\n",
    "import matplotlib.pyplot as plt\n",
    "\n",
    "dfDegrees = pd.read_csv(\"Indegree_outdegree_tocna_mgladbach.csv\", sep = ',')\n",
    "\n",
    "indegree = dfDegrees['weighted_indegree']\n",
    "outdegree = dfDegrees['weighted_outdegree']\n",
    "\n",
    "fig = plt.figure(figsize = (12, 24))\n",
    "fig.clf()\n",
    "ax = fig.add_subplot(111)\n",
    "\n",
    "plt.scatter(indegree, outdegree, s=70, c=outdegree+indegree)\n",
    "plt.yticks([0,10000,20000,30000,40000,50000],\n",
    "           ['0', '10K', '20K', '30K', '40K', '50K'])\n",
    "plt.xticks([0,5000,10000,15000,20000,25000,30000],\n",
    "           ['0', '5K', '10K', '15K', '20K', '25K', '30K'])\n",
    "plt.xlabel('Weighted indegree')\n",
    "plt.ylabel('Weighted outdegree')\n",
    "plt.title('Indegree vs Outdegree - Mgladbach točna dodavanja')\n",
    "\n",
    "def label_point(x, y, val, ax):\n",
    "    a = pd.concat({'x': x, 'y': y, 'val': val}, axis=1)\n",
    "    for i, point in a.iterrows():\n",
    "        ax.text(point['x'], point['y'], str(point['val']))\n",
    "\n",
    "label_point(dfDegrees.weighted_indegree, dfDegrees.weighted_outdegree, dfDegrees.label, ax)\n",
    "plt.show()"
   ]
  }
 ],
 "metadata": {
  "kernelspec": {
   "display_name": "Python 3",
   "language": "python",
   "name": "python3"
  },
  "language_info": {
   "codemirror_mode": {
    "name": "ipython",
    "version": 3
   },
   "file_extension": ".py",
   "mimetype": "text/x-python",
   "name": "python",
   "nbconvert_exporter": "python",
   "pygments_lexer": "ipython3",
   "version": "3.5.1"
  }
 },
 "nbformat": 4,
 "nbformat_minor": 0
}
