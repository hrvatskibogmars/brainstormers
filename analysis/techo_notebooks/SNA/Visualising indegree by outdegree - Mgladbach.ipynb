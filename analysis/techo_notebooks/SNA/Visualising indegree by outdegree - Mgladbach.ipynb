{
 "cells": [
  {
   "cell_type": "markdown",
   "metadata": {},
   "source": [
    "### Vizualizacija scatter plot grafikona za ulazne i izlazne stupnjeve čvorova pomoću grafikona ScatterPlot"
   ]
  },
  {
   "cell_type": "code",
   "execution_count": null,
   "metadata": {
    "collapsed": false
   },
   "outputs": [],
   "source": [
    "import pandas as pd\n",
    "import numpy as np\n",
    "import matplotlib.pyplot as plt\n",
    "\n",
    "dfDegrees = pd.read_csv(\"Indegree_outdegree_mgladbach.csv\", sep = ',')\n",
    "\n",
    "indegree = dfDegrees['weighted_indegree']\n",
    "outdegree = dfDegrees['weighted_outdegree']\n",
    "\n",
    "fig = plt.figure(figsize = (12, 24))\n",
    "fig.clf()\n",
    "ax = fig.add_subplot(111)\n",
    "\n",
    "plt.scatter(indegree, outdegree, s=70, c=outdegree+indegree)\n",
    "plt.yticks([0,20000,40000,60000,80000,100000],\n",
    "           ['0', '20K', '40K', '60K', '80K', '100K'])\n",
    "plt.xticks([0,10000,20000,30000,40000,50000,60000],\n",
    "           ['0', '10K', '20K', '30K', '40K', '50K', '60K'])\n",
    "plt.xlabel('Weighted indegree')\n",
    "plt.ylabel('Weighted outdegree')\n",
    "plt.title('Indegree vs Outdegree - interakcije Mgladbach igrača')\n",
    "\n",
    "def label_point(x, y, val, ax):\n",
    "    a = pd.concat({'x': x, 'y': y, 'val': val}, axis=1)\n",
    "    for i, point in a.iterrows():\n",
    "        ax.text(point['x'], point['y'], str(point['val']))\n",
    "\n",
    "label_point(dfDegrees.weighted_indegree, dfDegrees.weighted_outdegree, dfDegrees.label, ax)\n",
    "plt.show()"
   ]
  }
 ],
 "metadata": {
  "kernelspec": {
   "display_name": "Python 3",
   "language": "python",
   "name": "python3"
  },
  "language_info": {
   "codemirror_mode": {
    "name": "ipython",
    "version": 3
   },
   "file_extension": ".py",
   "mimetype": "text/x-python",
   "name": "python",
   "nbconvert_exporter": "python",
   "pygments_lexer": "ipython3",
   "version": "3.5.1"
  }
 },
 "nbformat": 4,
 "nbformat_minor": 0
}
