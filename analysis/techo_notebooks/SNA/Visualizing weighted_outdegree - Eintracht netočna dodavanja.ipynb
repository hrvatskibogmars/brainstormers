{
 "cells": [
  {
   "cell_type": "code",
   "execution_count": 25,
   "metadata": {
    "collapsed": false
   },
   "outputs": [],
   "source": [
    "import pandas as pd\n",
    "import numpy as np\n",
    "import matplotlib.pyplot as plt\n",
    "\n",
    "dfDegrees = pd.read_csv(\"Indegree_outdegree_eintracht_netocna.csv\", sep = ',')\n",
    "\n",
    "\n",
    "outdegree = dfDegrees['weighted_outdegree']\n",
    "\n",
    "ax = dfDegrees[['weighted_outdegree']].plot(kind='bar', figsize=(20,10), \n",
    "                                      title='Broj netočnih dodavanja - Eintracht',\n",
    "                                      legend=True,\n",
    "                                      fontsize=28,linewidth=3)\n",
    "\n",
    "ax.set_xticklabels(dfDegrees['label'] ,rotation=90,fontsize=22)\n",
    "ax.set_xlabel(\"Igrači\",fontsize=28)\n",
    "ax.set_ylabel(\"Weighted outdegree\",fontsize=28)\n",
    "plt.show()"
   ]
  }
 ],
 "metadata": {
  "kernelspec": {
   "display_name": "Python 3",
   "language": "python",
   "name": "python3"
  },
  "language_info": {
   "codemirror_mode": {
    "name": "ipython",
    "version": 3
   },
   "file_extension": ".py",
   "mimetype": "text/x-python",
   "name": "python",
   "nbconvert_exporter": "python",
   "pygments_lexer": "ipython3",
   "version": "3.5.1"
  }
 },
 "nbformat": 4,
 "nbformat_minor": 0
}
