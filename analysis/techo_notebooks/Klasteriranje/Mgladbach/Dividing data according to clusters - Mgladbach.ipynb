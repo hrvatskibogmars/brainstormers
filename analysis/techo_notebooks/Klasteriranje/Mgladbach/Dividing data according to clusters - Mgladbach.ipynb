{
 "cells": [
  {
   "cell_type": "code",
   "execution_count": 1,
   "metadata": {
    "collapsed": false
   },
   "outputs": [],
   "source": [
    "import matplotlib   \n",
    "import matplotlib.pyplot as plt \n",
    "import sklearn.decomposition as de\n",
    "import pandas as pd\n",
    "\n",
    "dfClusters = pd.read_csv(\"kmeans_results_3k_super.csv\", sep=',')\n",
    "dfSve = pd.read_csv(\"Mgladbach_za_klasteriranje.csv\", sep =',')\n",
    "\n",
    "cols_to_use= dfClusters.columns.difference(dfSve.columns)\n",
    "\n",
    "dfSpojeno = pd.merge(dfSve, dfClusters[cols_to_use], right_index=True, left_index=True, how='inner')\n",
    "dfSpojeno.drop(['DistancesToClusterCenter no.0', 'DistancesToClusterCenter no.1', 'DistancesToClusterCenter no.2'], \n",
    "               axis=1, inplace=True)\n",
    "dfSpojeno.to_csv(\"Spojeno_sve_sa_klasterima_Mgladbach.csv\", sep = ',', index=False)"
   ]
  },
  {
   "cell_type": "code",
   "execution_count": 2,
   "metadata": {
    "collapsed": false
   },
   "outputs": [],
   "source": [
    "dfKlaster0 = dfSpojeno[dfSpojeno['Assignments'] == 0]\n",
    "dfKlaster1 = dfSpojeno[dfSpojeno['Assignments'] == 1]\n",
    "dfKlaster2 = dfSpojeno[dfSpojeno['Assignments'] == 2]\n",
    "\n",
    "dfKlaster0.to_csv(\"klaster0_Mgladbach.csv\", sep=',', index=False)\n",
    "dfKlaster1.to_csv(\"klaster1_Mgladbach.csv\", sep=',', index=False)\n",
    "dfKlaster2.to_csv(\"klaster2_Mgladbach.csv\", sep=',', index=False)"
   ]
  }
 ],
 "metadata": {
  "kernelspec": {
   "display_name": "Python 3",
   "language": "python",
   "name": "python3"
  },
  "language_info": {
   "codemirror_mode": {
    "name": "ipython",
    "version": 3
   },
   "file_extension": ".py",
   "mimetype": "text/x-python",
   "name": "python",
   "nbconvert_exporter": "python",
   "pygments_lexer": "ipython3",
   "version": "3.5.1"
  }
 },
 "nbformat": 4,
 "nbformat_minor": 0
}
