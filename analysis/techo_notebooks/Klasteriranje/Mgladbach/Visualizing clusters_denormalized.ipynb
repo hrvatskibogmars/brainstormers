{
 "cells": [
  {
   "cell_type": "code",
   "execution_count": null,
   "metadata": {
    "collapsed": true
   },
   "outputs": [],
   "source": [
    "import matplotlib   \n",
    "import matplotlib.pyplot as plt \n",
    "import sklearn.decomposition as de\n",
    "import pandas as pd\n",
    "\n",
    "dfClustered = pd.read_csv(\"Spojeno_sve_sa_klasterima_Mgladbach.csv\", sep=',')\n",
    "\n",
    "cluster0 = dfClustered[dfClustered['Assignments'] == 0]\n",
    "cluster1 = dfClustered[dfClustered['Assignments'] == 1]\n",
    "cluster2 = dfClustered[dfClustered['Assignments'] == 2]\n",
    "\n",
    "numeric_cols = ['actionPosX1', 'actionPosY1']    \n",
    "fig = plt.figure(figsize = (12, 24))\n",
    "fig.clf()\n",
    "i = 1\n",
    "for col in numeric_cols:\n",
    "    ax = fig.add_subplot(2, 1, i)\n",
    "    title = 'Scatter graf za ' + col + ' vs. start_sector'\n",
    "    cluster0.plot(kind = 'scatter', x = col, y = 'start_sector', color='DarkBlue', label='Cluster 0', alpha = 0.3, ax = ax)\n",
    "    cluster1.plot(kind = 'scatter', x = col, y = 'start_sector', color='Red', label='Cluster 1', alpha = 0.3, ax = ax)\n",
    "    cluster2.plot(kind = 'scatter', x = col, y = 'start_sector', color='Green', label='Cluster 2', alpha = 0.3, ax = ax)\n",
    "    ax.set_title(title)\n",
    "    ax.set_xlabel('')\n",
    "    i += 1\n",
    "    \n",
    "numeric_cols = ['actionPosX2', 'actionPosY2']    \n",
    "fig = plt.figure(figsize = (12, 24))\n",
    "fig.clf()\n",
    "i = 1\n",
    "for col in numeric_cols:\n",
    "    ax = fig.add_subplot(2, 1, i)\n",
    "    title = 'Scatter graf za ' + col + ' vs. end_sector'\n",
    "    cluster0.plot(kind = 'scatter', x = col, y = 'end_sector', color='DarkBlue', label='Cluster 0', alpha = 0.3, ax = ax)\n",
    "    cluster1.plot(kind = 'scatter', x = col, y = 'end_sector', color='Red', label='Cluster 1', alpha = 0.3, ax = ax)\n",
    "    cluster2.plot(kind = 'scatter', x = col, y = 'end_sector', color='Green', label='Cluster 2', alpha = 0.3, ax = ax)\n",
    "    ax.set_title(title)\n",
    "    ax.set_xlabel('')\n",
    "    i += 1\n",
    "\n",
    "plt.show()"
   ]
  },
  {
   "cell_type": "code",
   "execution_count": 2,
   "metadata": {
    "collapsed": false
   },
   "outputs": [],
   "source": [
    "import matplotlib   \n",
    "import matplotlib.pyplot as plt \n",
    "import sklearn.decomposition as de\n",
    "import pandas as pd\n",
    "\n",
    "dfClustered = pd.read_csv(\"Spojeno_sve_sa_klasterima_Mgladbach.csv\", sep=',')\n",
    "\n",
    "cluster0 = dfClustered[dfClustered['Assignments'] == 0]\n",
    "cluster1 = dfClustered[dfClustered['Assignments'] == 1]\n",
    "cluster2 = dfClustered[dfClustered['Assignments'] == 2]\n",
    "  \n",
    "fig = plt.figure(figsize = (12, 24))\n",
    "fig.clf()\n",
    "ax = fig.add_subplot(1, 1, 1)\n",
    "title = 'Scatter graf za actionPosX1 vs. actionPosY1'\n",
    "cluster0.plot(kind = 'scatter', x = 'actionPosX1', y = 'actionPosY1', color='DarkBlue', \n",
    "                  label='Cluster 0', alpha = 0.3, ax = ax)\n",
    "cluster1.plot(kind = 'scatter', x = 'actionPosX1', y = 'actionPosY1', color='Red', \n",
    "                  label='Cluster 1', alpha = 0.3, ax = ax)\n",
    "cluster2.plot(kind = 'scatter', x = 'actionPosX1', y = 'actionPosY1', color='Green', \n",
    "                  label='Cluster 2', alpha = 0.3, ax = ax)\n",
    "ax.set_title(title)\n",
    "ax.set_xlabel('')\n",
    "     \n",
    "fig = plt.figure(figsize = (12, 24))\n",
    "fig.clf()\n",
    "ax = fig.add_subplot(1, 1, 1)\n",
    "title = 'Scatter graf za actionPosX2 vs. actionPosY2'\n",
    "cluster0.plot(kind = 'scatter', x = 'actionPosX2', y = 'actionPosY2', color='DarkBlue', \n",
    "                  label='Cluster 0', alpha = 0.3, ax = ax)\n",
    "cluster1.plot(kind = 'scatter', x = 'actionPosX2', y = 'actionPosY2', color='Red', \n",
    "                  label='Cluster 1', alpha = 0.3, ax = ax)\n",
    "cluster2.plot(kind = 'scatter', x = 'actionPosX2', y = 'actionPosY2', color='Green', \n",
    "                  label='Cluster 2', alpha = 0.3, ax = ax)\n",
    "ax.set_title(title)\n",
    "ax.set_xlabel('')\n",
    "\n",
    "plt.show()"
   ]
  }
 ],
 "metadata": {
  "kernelspec": {
   "display_name": "Python 3",
   "language": "python",
   "name": "python3"
  },
  "language_info": {
   "codemirror_mode": {
    "name": "ipython",
    "version": 3
   },
   "file_extension": ".py",
   "mimetype": "text/x-python",
   "name": "python",
   "nbconvert_exporter": "python",
   "pygments_lexer": "ipython3",
   "version": "3.5.1"
  }
 },
 "nbformat": 4,
 "nbformat_minor": 0
}
