{
 "cells": [
  {
   "cell_type": "code",
   "execution_count": 1,
   "metadata": {
    "collapsed": false
   },
   "outputs": [],
   "source": [
    "import sklearn.cluster as cl\n",
    "import matplotlib   \n",
    "import matplotlib.pyplot as plt \n",
    "import sklearn.decomposition as de\n",
    "import pandas as pd   \n",
    "\n",
    "frame1 = pd.read_csv(\"Eintracht_ukupno2.csv\", sep =',')\n",
    "   \n",
    "aclust = cl.AgglomerativeClustering()\n",
    "    \n",
    "atributi = ['actionPosX1', 'actionPosX2', 'actionPosY1',\n",
    "    'actionPosY2', 'start_sector', 'end_sector']\n",
    "frame1['Assignments'] = aclust.fit_predict(frame1[atributi].as_matrix())\n",
    "\n",
    "frame1.to_csv(\"hclustering_results_1x.csv\", sep=',', index=False)"
   ]
  },
  {
   "cell_type": "code",
   "execution_count": 2,
   "metadata": {
    "collapsed": true
   },
   "outputs": [],
   "source": [
    "num_cols = ['actionPosX1', 'actionPosX2', 'actionPosY1', 'actionPosY2', 'start_sector', 'end_sector'] \n",
    "pca = de.PCA(n_components = 2)\n",
    "pca.fit(frame1[num_cols].as_matrix())\n",
    "pca_frame = pd.DataFrame(pca.transform(frame1[num_cols].as_matrix()))\n",
    "pca_frame['Assignments'] = frame1.Assignments\n",
    "    \n",
    "temp0 = pca_frame.ix[pca_frame['Assignments'] == 0, :]    \n",
    "temp1 = pca_frame.ix[pca_frame['Assignments'] == 1, :]\n",
    "temp0.columns = ['PC1', 'PC2', 'Assignments']\n",
    "temp1.columns = ['PC1', 'PC2', 'Assignments']\n",
    "    \n",
    "fig = plt.figure(figsize = (12,6))\n",
    "fig.clf() \n",
    "ax = fig.gca()\n",
    "temp0.plot(kind = 'scatter', x = 'PC1', y = 'PC2', color='DarkBlue', label='Cluster 0', alpha = 0.3, ax = ax)\n",
    "temp1.plot(kind = 'scatter', x = 'PC1', y = 'PC2', color='Red', label='Cluster 1', alpha = 0.3, ax = ax)\n",
    "ax.set_title('Klasteri prema analizi glavnih komponenti')\n",
    "ax.set_xlabel('Prva glavna komponenta')\n",
    "ax.set_ylabel('Druga glavna komponenta')\n",
    "\n",
    "plt.show()"
   ]
  }
 ],
 "metadata": {
  "kernelspec": {
   "display_name": "Python 3",
   "language": "python",
   "name": "python3"
  },
  "language_info": {
   "codemirror_mode": {
    "name": "ipython",
    "version": 3
   },
   "file_extension": ".py",
   "mimetype": "text/x-python",
   "name": "python",
   "nbconvert_exporter": "python",
   "pygments_lexer": "ipython3",
   "version": "3.5.1"
  }
 },
 "nbformat": 4,
 "nbformat_minor": 0
}
