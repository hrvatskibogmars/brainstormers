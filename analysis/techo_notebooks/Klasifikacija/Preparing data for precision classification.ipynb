{
 "cells": [
  {
   "cell_type": "markdown",
   "metadata": {},
   "source": [
    "## Priprema podataka za klasifikaciju točnosti dodavanja."
   ]
  },
  {
   "cell_type": "markdown",
   "metadata": {},
   "source": [
    "Priprema podataka za klasifikaciju točnosti dodavanja. Ovdje smo htjeli vidjeti koji atributi najviše ujteču na točnost dodavanja. To smo napravili pomoću sielekcije atributa unutar AzureML projekta."
   ]
  },
  {
   "cell_type": "code",
   "execution_count": null,
   "metadata": {
    "collapsed": true
   },
   "outputs": [],
   "source": [
    "import numpy as np\n",
    "import seaborn as sns\n",
    "import pandas as pd\n",
    "from pandas import Series,DataFrame\n",
    "import os\n",
    "import warnings\n",
    "warnings.filterwarnings('ignore')\n",
    "\n",
    "igraci = [8570, 196633, 5335, 21022, 16520, 199745, 77888, 39442, 1802, 1790, 1770, 22870, 40700, 196661, 212914, 203576, \n",
    "          206101, 67519, 143853, 57720, 12956, 44079, 7466, 205986, 102895, 201624, 214449, 206102]\n",
    "\n",
    "dfAkcije = pd.read_csv(\"mozgalo_gladbach_eintracht_akcije_spojeno.csv\", sep = ',')\n",
    "dfAkcijeEintracht = dfAkcije[dfAkcije['playerID'].isin(igraci)]\n",
    "\n",
    "for index, item in dfAkcijeEintracht.iterrows():\n",
    "    if(int(item['actionID']) == 247 or int(item['actionOptionID']) == 247):\n",
    "        class1 = 'da'\n",
    "        dfAkcijeEintracht.set_value(index,'tocno_dodavanje_class',class1)\n",
    "    elif(int(item['actionID']) == 248 or int(item['actionOptionID']) == 248):\n",
    "        class2 = 'ne'\n",
    "        dfAkcijeEintracht.set_value(index,'tocno_dodavanje_class',class2)\n",
    "    else:\n",
    "        class3 = 'ne'\n",
    "        dfAkcijeEintracht.set_value(index,'tocno_dodavanje_class',class3)\n",
    "        \n",
    "dfAkcijeEintracht.to_csv(\"Eintracht_ukupno_klasifikacija_prec2.csv\", sep=',', index=False)"
   ]
  }
 ],
 "metadata": {
  "kernelspec": {
   "display_name": "Python 3",
   "language": "python",
   "name": "python3"
  },
  "language_info": {
   "codemirror_mode": {
    "name": "ipython",
    "version": 3
   },
   "file_extension": ".py",
   "mimetype": "text/x-python",
   "name": "python",
   "nbconvert_exporter": "python",
   "pygments_lexer": "ipython3",
   "version": "3.5.1"
  }
 },
 "nbformat": 4,
 "nbformat_minor": 0
}
