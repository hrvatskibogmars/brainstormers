{
 "cells": [
  {
   "cell_type": "code",
   "execution_count": 1,
   "metadata": {
    "collapsed": false
   },
   "outputs": [],
   "source": [
    "import numpy as np\n",
    "import seaborn as sns\n",
    "import pandas as pd\n",
    "from pandas import Series,DataFrame\n",
    "import os\n",
    "\n",
    "akcije = [247, 17, 15, 13, 11, 320, 4, 261, 211]\n",
    "\n",
    "dfSveAkcije = pd.read_csv(\"Eintracht_ukupno2.csv\", sep = ',')\n",
    "dfRelevantneAkcije = dfSveAkcije[dfSveAkcije['actionID'].isin(akcije)]\n",
    "\n",
    "dfIzgDoma = dfRelevantneAkcije[(dfRelevantneAkcije['domaci'] == 'Eintracht Frankfurt') & \n",
    "                                     (dfRelevantneAkcije['Pogodaka_gosti'] > dfRelevantneAkcije['Pogodaka_domaci'])]\n",
    "\n",
    "dfIzgGosti = dfRelevantneAkcije[(dfRelevantneAkcije['gosti'] == 'Eintracht Frankfurt') & \n",
    "                                     (dfRelevantneAkcije['Pogodaka_domaci'] > dfRelevantneAkcije['Pogodaka_gosti'])]\n",
    "\n",
    "dfPobjedeDoma = dfRelevantneAkcije[(dfRelevantneAkcije['domaci'] == 'Eintracht Frankfurt') & \n",
    "                                     (dfRelevantneAkcije['Pogodaka_domaci'] > dfRelevantneAkcije['Pogodaka_gosti'])]\n",
    "\n",
    "dfCleanDomal = dfIzgDoma[['ID', 'gameID', 'actionStartTime', 'actionEndTime', 'actionID', 'actionOptionID',\n",
    "                                         'bindedActionID', 'playerID', 'actionIDNaziv', 'bindedActionIDN',\n",
    "                                         'actionOptionIDN', 'targetPlayerID', 'playerPositionIDN', 'targetPositionIDN',\n",
    "                                         'touchNumber', 'actionPosX1', 'actionPosX2', 'actionPosY1', 'actionPosY2',\n",
    "                                         'distance', 'start_sector', 'end_sector', 'action_duration', 'poss_duration']]\n",
    "\n",
    "dfCleanGostil = dfIzgGosti[['ID', 'gameID', 'actionStartTime', 'actionEndTime', 'actionID', 'actionOptionID',\n",
    "                                         'bindedActionID', 'playerID', 'actionIDNaziv', 'bindedActionIDN',\n",
    "                                         'actionOptionIDN', 'targetPlayerID', 'playerPositionIDN', 'targetPositionIDN',\n",
    "                                         'touchNumber', 'actionPosX1', 'actionPosX2', 'actionPosY1', 'actionPosY2',\n",
    "                                         'distance', 'start_sector', 'end_sector', 'action_duration', 'poss_duration']]\n",
    "\n",
    "dfCleanPobjedeDoma = dfPobjedeDoma[['ID', 'gameID', 'actionStartTime', 'actionEndTime', 'actionID', 'actionOptionID',\n",
    "                                         'bindedActionID', 'playerID', 'actionIDNaziv', 'bindedActionIDN',\n",
    "                                         'actionOptionIDN', 'targetPlayerID', 'playerPositionIDN', 'targetPositionIDN',\n",
    "                                         'touchNumber', 'actionPosX1', 'actionPosX2', 'actionPosY1', 'actionPosY2',\n",
    "                                         'distance', 'start_sector', 'end_sector', 'action_duration', 'poss_duration']]\n",
    "\n",
    "dfCleanPobjedeDoma.to_csv(\"Pobjede_doma_eintracht.csv\", sep = ',', index=False)\n",
    "dfCleanDomal.to_csv(\"Izg_doma_eintracht.csv\", sep = ',', index=False)\n",
    "dfCleanGostil.to_csv(\"Izg_gosti_eintracht.csv\", sep = ',', index=False)\n"
   ]
  },
  {
   "cell_type": "code",
   "execution_count": 4,
   "metadata": {
    "collapsed": false
   },
   "outputs": [],
   "source": [
    "import pandas as pd\n",
    "import numpy as np\n",
    "\n",
    "dfPobjedeDoma1 = pd.read_csv(\"Pobjede_doma_eintracht.csv\", sep=',')\n",
    "\n",
    "dfGrupirano = dfPobjedeDoma1.groupby(['playerID', 'actionIDNaziv', 'bindedActionIDN', 'actionOptionIDN', 'start_sector']).size()\n",
    "dfGrupirano.to_csv(\"Pobjede_doma_grupirano.csv\", sep=',')"
   ]
  },
  {
   "cell_type": "code",
   "execution_count": 5,
   "metadata": {
    "collapsed": true
   },
   "outputs": [],
   "source": [
    "import pandas as pd\n",
    "import numpy as np\n",
    "\n",
    "dfIzgDoma1 = pd.read_csv(\"Izg_doma_eintracht.csv\", sep=',')\n",
    "\n",
    "dfGrupirano1 = dfIzgDoma1.groupby(['playerID', 'actionIDNaziv', 'bindedActionIDN', 'actionOptionIDN', 'start_sector']).size()\n",
    "dfGrupirano1.to_csv(\"Izg_doma_grupirano.csv\", sep=',')"
   ]
  },
  {
   "cell_type": "code",
   "execution_count": 6,
   "metadata": {
    "collapsed": true
   },
   "outputs": [],
   "source": [
    "import pandas as pd\n",
    "import numpy as np\n",
    "\n",
    "dfIzgGosti1 = pd.read_csv(\"Izg_gosti_eintracht.csv\", sep=',')\n",
    "\n",
    "dfGrupirano2 = dfIzgGosti1.groupby(['playerID', 'actionIDNaziv', 'bindedActionIDN', 'actionOptionIDN', 'start_sector']).size()\n",
    "dfGrupirano2.to_csv(\"Izg_gosti_grupirano.csv\", sep=',')"
   ]
  }
 ],
 "metadata": {
  "kernelspec": {
   "display_name": "Python 3",
   "language": "python",
   "name": "python3"
  },
  "language_info": {
   "codemirror_mode": {
    "name": "ipython",
    "version": 3
   },
   "file_extension": ".py",
   "mimetype": "text/x-python",
   "name": "python",
   "nbconvert_exporter": "python",
   "pygments_lexer": "ipython3",
   "version": "3.5.1"
  }
 },
 "nbformat": 4,
 "nbformat_minor": 0
}
